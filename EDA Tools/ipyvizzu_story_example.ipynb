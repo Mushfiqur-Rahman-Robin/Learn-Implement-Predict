{
  "cells": [
    {
      "cell_type": "markdown",
      "source": [
        "Notebook taken from- https://github.com/vizzuhq/ipyvizzu-story"
      ],
      "metadata": {
        "id": "B35SpFQEONKF"
      },
      "id": "B35SpFQEONKF"
    },
    {
      "cell_type": "markdown",
      "id": "d3186103",
      "metadata": {
        "id": "d3186103"
      },
      "source": [
        "# ipyvizzu-story - example\n",
        "\n",
        "The history of the US Federal R&D budget between 1955-2020."
      ]
    },
    {
      "cell_type": "markdown",
      "source": [
        "ipyvizzu-story is an extension of ipyvizzu that enables users to create interactive presentations within the data science notebook of their choice."
      ],
      "metadata": {
        "id": "VpHfMyc1OyA7"
      },
      "id": "VpHfMyc1OyA7"
    },
    {
      "cell_type": "code",
      "source": [
        "!pip install ipyvizzu-story"
      ],
      "metadata": {
        "colab": {
          "base_uri": "https://localhost:8080/"
        },
        "id": "JDFen2y6N17b",
        "outputId": "d3da74f7-4457-44fa-9e57-9c25777ca697"
      },
      "id": "JDFen2y6N17b",
      "execution_count": 2,
      "outputs": [
        {
          "output_type": "stream",
          "name": "stdout",
          "text": [
            "Looking in indexes: https://pypi.org/simple, https://us-python.pkg.dev/colab-wheels/public/simple/\n",
            "Collecting ipyvizzu-story\n",
            "  Downloading ipyvizzu_story-0.4.2-py3-none-any.whl (15 kB)\n",
            "Collecting ipyvizzu\n",
            "  Downloading ipyvizzu-0.12.1-py3-none-any.whl (17 kB)\n",
            "Requirement already satisfied: jsonschema in /usr/local/lib/python3.7/dist-packages (from ipyvizzu->ipyvizzu-story) (4.3.3)\n",
            "Requirement already satisfied: pandas in /usr/local/lib/python3.7/dist-packages (from ipyvizzu->ipyvizzu-story) (1.3.5)\n",
            "Requirement already satisfied: IPython in /usr/local/lib/python3.7/dist-packages (from ipyvizzu->ipyvizzu-story) (7.9.0)\n",
            "Requirement already satisfied: pygments in /usr/local/lib/python3.7/dist-packages (from IPython->ipyvizzu->ipyvizzu-story) (2.6.1)\n",
            "Requirement already satisfied: prompt-toolkit<2.1.0,>=2.0.0 in /usr/local/lib/python3.7/dist-packages (from IPython->ipyvizzu->ipyvizzu-story) (2.0.10)\n",
            "Requirement already satisfied: decorator in /usr/local/lib/python3.7/dist-packages (from IPython->ipyvizzu->ipyvizzu-story) (4.4.2)\n",
            "Requirement already satisfied: traitlets>=4.2 in /usr/local/lib/python3.7/dist-packages (from IPython->ipyvizzu->ipyvizzu-story) (5.1.1)\n",
            "Requirement already satisfied: setuptools>=18.5 in /usr/local/lib/python3.7/dist-packages (from IPython->ipyvizzu->ipyvizzu-story) (57.4.0)\n",
            "Requirement already satisfied: backcall in /usr/local/lib/python3.7/dist-packages (from IPython->ipyvizzu->ipyvizzu-story) (0.2.0)\n",
            "Requirement already satisfied: pickleshare in /usr/local/lib/python3.7/dist-packages (from IPython->ipyvizzu->ipyvizzu-story) (0.7.5)\n",
            "Collecting jedi>=0.10\n",
            "  Downloading jedi-0.18.1-py2.py3-none-any.whl (1.6 MB)\n",
            "\u001b[K     |████████████████████████████████| 1.6 MB 2.8 MB/s \n",
            "\u001b[?25hRequirement already satisfied: pexpect in /usr/local/lib/python3.7/dist-packages (from IPython->ipyvizzu->ipyvizzu-story) (4.8.0)\n",
            "Requirement already satisfied: parso<0.9.0,>=0.8.0 in /usr/local/lib/python3.7/dist-packages (from jedi>=0.10->IPython->ipyvizzu->ipyvizzu-story) (0.8.3)\n",
            "Requirement already satisfied: six>=1.9.0 in /usr/local/lib/python3.7/dist-packages (from prompt-toolkit<2.1.0,>=2.0.0->IPython->ipyvizzu->ipyvizzu-story) (1.15.0)\n",
            "Requirement already satisfied: wcwidth in /usr/local/lib/python3.7/dist-packages (from prompt-toolkit<2.1.0,>=2.0.0->IPython->ipyvizzu->ipyvizzu-story) (0.2.5)\n",
            "Requirement already satisfied: importlib-resources>=1.4.0 in /usr/local/lib/python3.7/dist-packages (from jsonschema->ipyvizzu->ipyvizzu-story) (5.9.0)\n",
            "Requirement already satisfied: attrs>=17.4.0 in /usr/local/lib/python3.7/dist-packages (from jsonschema->ipyvizzu->ipyvizzu-story) (22.1.0)\n",
            "Requirement already satisfied: importlib-metadata in /usr/local/lib/python3.7/dist-packages (from jsonschema->ipyvizzu->ipyvizzu-story) (4.12.0)\n",
            "Requirement already satisfied: typing-extensions in /usr/local/lib/python3.7/dist-packages (from jsonschema->ipyvizzu->ipyvizzu-story) (4.1.1)\n",
            "Requirement already satisfied: pyrsistent!=0.17.0,!=0.17.1,!=0.17.2,>=0.14.0 in /usr/local/lib/python3.7/dist-packages (from jsonschema->ipyvizzu->ipyvizzu-story) (0.18.1)\n",
            "Requirement already satisfied: zipp>=3.1.0 in /usr/local/lib/python3.7/dist-packages (from importlib-resources>=1.4.0->jsonschema->ipyvizzu->ipyvizzu-story) (3.8.1)\n",
            "Requirement already satisfied: pytz>=2017.3 in /usr/local/lib/python3.7/dist-packages (from pandas->ipyvizzu->ipyvizzu-story) (2022.2.1)\n",
            "Requirement already satisfied: numpy>=1.17.3 in /usr/local/lib/python3.7/dist-packages (from pandas->ipyvizzu->ipyvizzu-story) (1.21.6)\n",
            "Requirement already satisfied: python-dateutil>=2.7.3 in /usr/local/lib/python3.7/dist-packages (from pandas->ipyvizzu->ipyvizzu-story) (2.8.2)\n",
            "Requirement already satisfied: ptyprocess>=0.5 in /usr/local/lib/python3.7/dist-packages (from pexpect->IPython->ipyvizzu->ipyvizzu-story) (0.7.0)\n",
            "Installing collected packages: jedi, ipyvizzu, ipyvizzu-story\n",
            "Successfully installed ipyvizzu-0.12.1 ipyvizzu-story-0.4.2 jedi-0.18.1\n"
          ]
        }
      ]
    },
    {
      "cell_type": "code",
      "execution_count": 3,
      "id": "71c686cf",
      "metadata": {
        "scrolled": true,
        "id": "71c686cf"
      },
      "outputs": [],
      "source": [
        "import pandas as pd\n",
        "\n",
        "from ipyvizzu import Data, Config, Style\n",
        "from ipyvizzustory import Story, Slide, Step\n",
        "\n",
        "# Create data object, read csv to data frame and add data frame to data object.\n",
        "example_data = Data()\n",
        "example_df = pd.read_csv(\n",
        "    \"https://raw.githubusercontent.com/vizzuhq/ipyvizzu-story/main/docs/examples/demo/ipyvizzu-story_example.csv\",\n",
        "    dtype={\"Year\": str},\n",
        ")\n",
        "example_data.add_data_frame(example_df)"
      ]
    },
    {
      "cell_type": "code",
      "execution_count": 4,
      "id": "0f9a23ef",
      "metadata": {
        "scrolled": false,
        "colab": {
          "base_uri": "https://localhost:8080/",
          "height": 417
        },
        "id": "0f9a23ef",
        "outputId": "34e99866-dbc9-4bd9-a329-cd64dfec19c8"
      },
      "outputs": [
        {
          "output_type": "display_data",
          "data": {
            "text/plain": [
              "<IPython.core.display.HTML object>"
            ],
            "text/html": [
              "\n",
              "<div>\n",
              "    <vizzu-player id=\"1734e1a\" controller></vizzu-player>\n",
              "    <script type=\"module\">\n",
              "        import VizzuPlayer, { Vizzu as lib } from \"https://cdn.jsdelivr.net/npm/vizzu-story@~0.1.0/dist/vizzu-story.min.js\";\n",
              "\n",
              "\n",
              "        const vizzuPlayerData = {\"data\": {\"series\": [{\"name\": \"Year\", \"type\": \"dimension\", \"values\": [\"1955\", \"1955\", \"1955\", \"1955\", \"1955\", \"1955\", \"1955\", \"1956\", \"1956\", \"1956\", \"1956\", \"1956\", \"1956\", \"1956\", \"1957\", \"1957\", \"1957\", \"1957\", \"1957\", \"1957\", \"1957\", \"1958\", \"1958\", \"1958\", \"1958\", \"1958\", \"1958\", \"1958\", \"1959\", \"1959\", \"1959\", \"1959\", \"1959\", \"1959\", \"1959\", \"1960\", \"1960\", \"1960\", \"1960\", \"1960\", \"1960\", \"1960\", \"1961\", \"1961\", \"1961\", \"1961\", \"1961\", \"1961\", \"1961\", \"1962\", \"1962\", \"1962\", \"1962\", \"1962\", \"1962\", \"1962\", \"1963\", \"1963\", \"1963\", \"1963\", \"1963\", \"1963\", \"1963\", \"1964\", \"1964\", \"1964\", \"1964\", \"1964\", \"1964\", \"1964\", \"1965\", \"1965\", \"1965\", \"1965\", \"1965\", \"1965\", \"1965\", \"1966\", \"1966\", \"1966\", \"1966\", \"1966\", \"1966\", \"1966\", \"1967\", \"1967\", \"1967\", \"1967\", \"1967\", \"1967\", \"1967\", \"1968\", \"1968\", \"1968\", \"1968\", \"1968\", \"1968\", \"1968\", \"1969\", \"1969\", \"1969\", \"1969\", \"1969\", \"1969\", \"1969\", \"1970\", \"1970\", \"1970\", \"1970\", \"1970\", \"1970\", \"1970\", \"1971\", \"1971\", \"1971\", \"1971\", \"1971\", \"1971\", \"1971\", \"1972\", \"1972\", \"1972\", \"1972\", \"1972\", \"1972\", \"1972\", \"1973\", \"1973\", \"1973\", \"1973\", \"1973\", \"1973\", \"1973\", \"1974\", \"1974\", \"1974\", \"1974\", \"1974\", \"1974\", \"1974\", \"1975\", \"1975\", \"1975\", \"1975\", \"1975\", \"1975\", \"1975\", \"1976\", \"1976\", \"1976\", \"1976\", \"1976\", \"1976\", \"1976\", \"1977\", \"1977\", \"1977\", \"1977\", \"1977\", \"1977\", \"1977\", \"1978\", \"1978\", \"1978\", \"1978\", \"1978\", \"1978\", \"1978\", \"1979\", \"1979\", \"1979\", \"1979\", \"1979\", \"1979\", \"1979\", \"1980\", \"1980\", \"1980\", \"1980\", \"1980\", \"1980\", \"1980\", \"1981\", \"1981\", \"1981\", \"1981\", \"1981\", \"1981\", \"1981\", \"1982\", \"1982\", \"1982\", \"1982\", \"1982\", \"1982\", \"1982\", \"1983\", \"1983\", \"1983\", \"1983\", \"1983\", \"1983\", \"1983\", \"1984\", \"1984\", \"1984\", \"1984\", \"1984\", \"1984\", \"1984\", \"1985\", \"1985\", \"1985\", \"1985\", \"1985\", \"1985\", \"1985\", \"1986\", \"1986\", \"1986\", \"1986\", \"1986\", \"1986\", \"1986\", \"1987\", \"1987\", \"1987\", \"1987\", \"1987\", \"1987\", \"1987\", \"1988\", \"1988\", \"1988\", \"1988\", \"1988\", \"1988\", \"1988\", \"1989\", \"1989\", \"1989\", \"1989\", \"1989\", \"1989\", \"1989\", \"1990\", \"1990\", \"1990\", \"1990\", \"1990\", \"1990\", \"1990\", \"1991\", \"1991\", \"1991\", \"1991\", \"1991\", \"1991\", \"1991\", \"1992\", \"1992\", \"1992\", \"1992\", \"1992\", \"1992\", \"1992\", \"1993\", \"1993\", \"1993\", \"1993\", \"1993\", \"1993\", \"1993\", \"1994\", \"1994\", \"1994\", \"1994\", \"1994\", \"1994\", \"1994\", \"1995\", \"1995\", \"1995\", \"1995\", \"1995\", \"1995\", \"1995\", \"1996\", \"1996\", \"1996\", \"1996\", \"1996\", \"1996\", \"1996\", \"1997\", \"1997\", \"1997\", \"1997\", \"1997\", \"1997\", \"1997\", \"1998\", \"1998\", \"1998\", \"1998\", \"1998\", \"1998\", \"1998\", \"1999\", \"1999\", \"1999\", \"1999\", \"1999\", \"1999\", \"1999\", \"2000\", \"2000\", \"2000\", \"2000\", \"2000\", \"2000\", \"2000\", \"2001\", \"2001\", \"2001\", \"2001\", \"2001\", \"2001\", \"2001\", \"2002\", \"2002\", \"2002\", \"2002\", \"2002\", \"2002\", \"2002\", \"2003\", \"2003\", \"2003\", \"2003\", \"2003\", \"2003\", \"2003\", \"2004\", \"2004\", \"2004\", \"2004\", \"2004\", \"2004\", \"2004\", \"2005\", \"2005\", \"2005\", \"2005\", \"2005\", \"2005\", \"2005\", \"2006\", \"2006\", \"2006\", \"2006\", \"2006\", \"2006\", \"2006\", \"2007\", \"2007\", \"2007\", \"2007\", \"2007\", \"2007\", \"2007\", \"2008\", \"2008\", \"2008\", \"2008\", \"2008\", \"2008\", \"2008\", \"2009\", \"2009\", \"2009\", \"2009\", \"2009\", \"2009\", \"2009\", \"2010\", \"2010\", \"2010\", \"2010\", \"2010\", \"2010\", \"2010\", \"2011\", \"2011\", \"2011\", \"2011\", \"2011\", \"2011\", \"2011\", \"2012\", \"2012\", \"2012\", \"2012\", \"2012\", \"2012\", \"2012\", \"2013\", \"2013\", \"2013\", \"2013\", \"2013\", \"2013\", \"2013\", \"2014\", \"2014\", \"2014\", \"2014\", \"2014\", \"2014\", \"2014\", \"2015\", \"2015\", \"2015\", \"2015\", \"2015\", \"2015\", \"2015\", \"2016\", \"2016\", \"2016\", \"2016\", \"2016\", \"2016\", \"2016\", \"2017\", \"2017\", \"2017\", \"2017\", \"2017\", \"2017\", \"2017\", \"2018\", \"2018\", \"2018\", \"2018\", \"2018\", \"2018\", \"2018\", \"2019\", \"2019\", \"2019\", \"2019\", \"2019\", \"2019\", \"2019\", \"2020\", \"2020\", \"2020\", \"2020\", \"2020\", \"2020\", \"2020\"]}, {\"name\": \"Function\", \"type\": \"dimension\", \"values\": [\"Health\", \"Space\", \"Science\", \"Energy\", \"Nat. Res.\", \"Other\", \"Defense\", \"Health\", \"Space\", \"Science\", \"Energy\", \"Nat. Res.\", \"Other\", \"Defense\", \"Health\", \"Space\", \"Science\", \"Energy\", \"Nat. Res.\", \"Other\", \"Defense\", \"Health\", \"Space\", \"Science\", \"Energy\", \"Nat. Res.\", \"Other\", \"Defense\", \"Health\", \"Space\", \"Science\", \"Energy\", \"Nat. Res.\", \"Other\", \"Defense\", \"Health\", \"Space\", \"Science\", \"Energy\", \"Nat. Res.\", \"Other\", \"Defense\", \"Health\", \"Space\", \"Science\", \"Energy\", \"Nat. Res.\", \"Other\", \"Defense\", \"Health\", \"Space\", \"Science\", \"Energy\", \"Nat. Res.\", \"Other\", \"Defense\", \"Health\", \"Space\", \"Science\", \"Energy\", \"Nat. Res.\", \"Other\", \"Defense\", \"Health\", \"Space\", \"Science\", \"Energy\", \"Nat. Res.\", \"Other\", \"Defense\", \"Health\", \"Space\", \"Science\", \"Energy\", \"Nat. Res.\", \"Other\", \"Defense\", \"Health\", \"Space\", \"Science\", \"Energy\", \"Nat. Res.\", \"Other\", \"Defense\", \"Health\", \"Space\", \"Science\", \"Energy\", \"Nat. Res.\", \"Other\", \"Defense\", \"Health\", \"Space\", \"Science\", \"Energy\", \"Nat. Res.\", \"Other\", \"Defense\", \"Health\", \"Space\", \"Science\", \"Energy\", \"Nat. Res.\", \"Other\", \"Defense\", \"Health\", \"Space\", \"Science\", \"Energy\", \"Nat. Res.\", \"Other\", \"Defense\", \"Health\", \"Space\", \"Science\", \"Energy\", \"Nat. Res.\", \"Other\", \"Defense\", \"Health\", \"Space\", \"Science\", \"Energy\", \"Nat. Res.\", \"Other\", \"Defense\", \"Health\", \"Space\", \"Science\", \"Energy\", \"Nat. Res.\", \"Other\", \"Defense\", \"Health\", \"Space\", \"Science\", \"Energy\", \"Nat. Res.\", \"Other\", \"Defense\", \"Health\", \"Space\", \"Science\", \"Energy\", \"Nat. Res.\", \"Other\", \"Defense\", \"Health\", \"Space\", \"Science\", \"Energy\", \"Nat. Res.\", \"Other\", \"Defense\", \"Health\", \"Space\", \"Science\", \"Energy\", \"Nat. Res.\", \"Other\", \"Defense\", \"Health\", \"Space\", \"Science\", \"Energy\", \"Nat. Res.\", \"Other\", \"Defense\", \"Health\", \"Space\", \"Science\", \"Energy\", \"Nat. Res.\", \"Other\", \"Defense\", \"Health\", \"Space\", \"Science\", \"Energy\", \"Nat. Res.\", \"Other\", \"Defense\", \"Health\", \"Space\", \"Science\", \"Energy\", \"Nat. Res.\", \"Other\", \"Defense\", \"Health\", \"Space\", \"Science\", \"Energy\", \"Nat. Res.\", \"Other\", \"Defense\", \"Health\", \"Space\", \"Science\", \"Energy\", \"Nat. Res.\", \"Other\", \"Defense\", \"Health\", \"Space\", \"Science\", \"Energy\", \"Nat. Res.\", \"Other\", \"Defense\", \"Health\", \"Space\", \"Science\", \"Energy\", \"Nat. Res.\", \"Other\", \"Defense\", \"Health\", \"Space\", \"Science\", \"Energy\", \"Nat. Res.\", \"Other\", \"Defense\", \"Health\", \"Space\", \"Science\", \"Energy\", \"Nat. Res.\", \"Other\", \"Defense\", \"Health\", \"Space\", \"Science\", \"Energy\", \"Nat. Res.\", \"Other\", \"Defense\", \"Health\", \"Space\", \"Science\", \"Energy\", \"Nat. Res.\", \"Other\", \"Defense\", \"Health\", \"Space\", \"Science\", \"Energy\", \"Nat. Res.\", \"Other\", \"Defense\", \"Health\", \"Space\", \"Science\", \"Energy\", \"Nat. Res.\", \"Other\", \"Defense\", \"Health\", \"Space\", \"Science\", \"Energy\", \"Nat. Res.\", \"Other\", \"Defense\", \"Health\", \"Space\", \"Science\", \"Energy\", \"Nat. Res.\", \"Other\", \"Defense\", \"Health\", \"Space\", \"Science\", \"Energy\", \"Nat. Res.\", \"Other\", \"Defense\", \"Health\", \"Space\", \"Science\", \"Energy\", \"Nat. Res.\", \"Other\", \"Defense\", \"Health\", \"Space\", \"Science\", \"Energy\", \"Nat. Res.\", \"Other\", \"Defense\", \"Health\", \"Space\", \"Science\", \"Energy\", \"Nat. Res.\", \"Other\", \"Defense\", \"Health\", \"Space\", \"Science\", \"Energy\", \"Nat. Res.\", \"Other\", \"Defense\", \"Health\", \"Space\", \"Science\", \"Energy\", \"Nat. Res.\", \"Other\", \"Defense\", \"Health\", \"Space\", \"Science\", \"Energy\", \"Nat. Res.\", \"Other\", \"Defense\", \"Health\", \"Space\", \"Science\", \"Energy\", \"Nat. Res.\", \"Other\", \"Defense\", \"Health\", \"Space\", \"Science\", \"Energy\", \"Nat. Res.\", \"Other\", \"Defense\", \"Health\", \"Space\", \"Science\", \"Energy\", \"Nat. Res.\", \"Other\", \"Defense\", \"Health\", \"Space\", \"Science\", \"Energy\", \"Nat. Res.\", \"Other\", \"Defense\", \"Health\", \"Space\", \"Science\", \"Energy\", \"Nat. Res.\", \"Other\", \"Defense\", \"Health\", \"Space\", \"Science\", \"Energy\", \"Nat. Res.\", \"Other\", \"Defense\", \"Health\", \"Space\", \"Science\", \"Energy\", \"Nat. Res.\", \"Other\", \"Defense\", \"Health\", \"Space\", \"Science\", \"Energy\", \"Nat. Res.\", \"Other\", \"Defense\", \"Health\", \"Space\", \"Science\", \"Energy\", \"Nat. Res.\", \"Other\", \"Defense\", \"Health\", \"Space\", \"Science\", \"Energy\", \"Nat. Res.\", \"Other\", \"Defense\", \"Health\", \"Space\", \"Science\", \"Energy\", \"Nat. Res.\", \"Other\", \"Defense\", \"Health\", \"Space\", \"Science\", \"Energy\", \"Nat. Res.\", \"Other\", \"Defense\", \"Health\", \"Space\", \"Science\", \"Energy\", \"Nat. Res.\", \"Other\", \"Defense\", \"Health\", \"Space\", \"Science\", \"Energy\", \"Nat. Res.\", \"Other\", \"Defense\", \"Health\", \"Space\", \"Science\", \"Energy\", \"Nat. Res.\", \"Other\", \"Defense\", \"Health\", \"Space\", \"Science\", \"Energy\", \"Nat. Res.\", \"Other\", \"Defense\", \"Health\", \"Space\", \"Science\", \"Energy\", \"Nat. Res.\", \"Other\", \"Defense\", \"Health\", \"Space\", \"Science\", \"Energy\", \"Nat. Res.\", \"Other\", \"Defense\", \"Health\", \"Space\", \"Science\", \"Energy\", \"Nat. Res.\", \"Other\", \"Defense\", \"Health\", \"Space\", \"Science\", \"Energy\", \"Nat. Res.\", \"Other\", \"Defense\"]}, {\"name\": \"Amount[B$]\", \"type\": \"measure\", \"values\": [0.54, 0.34, 0.63, 0.21, 0.25, 0.72, 12.08, 0.62, 0.38, 0.71, 0.32, 0.29, 0.94, 14.41, 0.98, 0.4, 0.87, 0.56, 0.33, 1.08, 15.63, 1.12, 0.51, 1.12, 0.77, 0.38, 1.28, 17.48, 1.51, 0.81, 1.43, 0.9, 0.62, 1.88, 37.55, 1.91, 2.28, 1.66, 1.1, 0.47, 2.15, 40.99, 2.25, 4.4, 1.94, 1.18, 0.72, 2.21, 47.17, 2.93, 7.5, 2.12, 2.68, 0.67, 2.62, 47.83, 3.67, 15.28, 2.43, 3.08, 0.79, 2.9, 47.63, 4.63, 24.31, 2.86, 3.3, 0.79, 3.15, 51.78, 3.82, 29.1, 2.95, 3.09, 0.91, 3.9, 45.8, 4.68, 33.42, 3.26, 2.86, 1.01, 4.31, 44.97, 5.56, 31.0, 3.49, 2.94, 1.11, 4.43, 49.61, 5.84, 26.51, 3.14, 3.06, 1.23, 5.54, 50.77, 6.1, 22.87, 3.78, 2.67, 1.32, 5.01, 47.25, 5.79, 18.98, 3.7, 2.43, 1.62, 5.96, 43.27, 5.76, 16.13, 3.67, 2.33, 1.8, 7.78, 41.62, 6.74, 14.99, 3.81, 1.61, 2.48, 6.95, 43.31, 7.79, 14.3, 3.78, 1.78, 2.53, 6.9, 42.92, 7.27, 12.71, 3.64, 2.3, 2.24, 7.03, 41.23, 7.51, 11.43, 3.5, 3.71, 2.57, 6.34, 38.6, 8.51, 11.99, 3.27, 5.29, 2.4, 6.32, 36.48, 5.71, 12.15, 3.24, 7.61, 2.03, 5.88, 37.67, 8.97, 11.21, 3.16, 8.25, 2.19, 6.64, 39.2, 9.73, 10.98, 3.24, 9.92, 2.69, 6.07, 36.43, 10.17, 11.77, 3.27, 9.09, 2.63, 6.15, 40.45, 10.27, 12.07, 3.52, 9.26, 2.29, 5.92, 42.6, 10.21, 6.34, 3.34, 7.83, 1.97, 5.23, 46.59, 10.05, 4.5, 3.29, 6.15, 1.93, 4.72, 50.25, 9.92, 6.58, 3.55, 6.01, 1.84, 5.22, 56.06, 10.8, 5.07, 3.56, 8.95, 1.86, 5.24, 63.92, 11.48, 5.9, 3.93, 5.4, 1.9, 5.34, 73.42, 11.7, 5.42, 4.03, 4.67, 1.78, 4.93, 74.72, 13.41, 6.34, 4.16, 4.46, 2.05, 4.83, 74.2, 14.15, 7.91, 4.22, 4.6, 1.98, 5.38, 75.69, 14.93, 10.17, 4.17, 4.24, 2.21, 5.41, 74.3, 14.89, 10.96, 4.31, 4.37, 2.31, 5.59, 66.17, 16.45, 11.32, 4.29, 4.42, 2.71, 6.06, 65.04, 17.27, 11.66, 4.23, 4.19, 2.93, 6.3, 67.26, 17.32, 10.86, 4.14, 4.32, 2.85, 6.78, 62.01, 17.96, 13.15, 4.14, 5.03, 2.65, 6.1, 60.15, 16.44, 10.9, 4.36, 4.6, 2.52, 6.61, 61.75, 17.63, 12.52, 4.18, 4.06, 2.45, 6.7, 61.82, 19.33, 13.12, 5.88, 2.32, 2.51, 6.48, 61.0, 21.51, 12.48, 6.35, 1.93, 2.6, 5.95, 60.43, 23.34, 7.96, 6.9, 1.86, 2.48, 5.83, 60.35, 26.13, 8.06, 6.97, 1.92, 2.51, 6.04, 63.41, 29.94, 8.22, 7.21, 1.69, 2.62, 6.4, 68.19, 32.84, 8.33, 7.93, 1.84, 2.66, 7.63, 79.59, 35.56, 10.9, 8.33, 1.88, 2.19, 6.28, 88.6, 36.29, 9.05, 8.48, 1.67, 2.47, 6.77, 92.95, 36.04, 8.68, 8.51, 1.47, 1.95, 6.79, 93.12, 35.81, 10.56, 8.29, 1.55, 2.06, 7.02, 95.66, 36.07, 12.46, 8.25, 1.48, 2.31, 6.75, 96.79, 37.05, 11.01, 8.75, 2.22, 2.32, 7.06, 99.68, 41.09, 9.49, 9.78, 2.34, 2.21, 6.4, 96.65, 41.67, 9.14, 10.84, 4.3, 2.19, 6.59, 93.1, 39.03, 11.5, 10.48, 3.46, 2.36, 6.17, 86.15, 36.45, 11.96, 10.4, 2.29, 2.14, 5.87, 80.08, 34.01, 11.91, 10.28, 2.61, 2.14, 6.14, 77.97, 33.77, 12.2, 10.07, 3.04, 2.27, 5.64, 77.25, 33.63, 12.36, 10.25, 3.01, 2.41, 5.91, 78.66, 36.0, 10.71, 10.23, 3.1, 2.54, 5.83, 54.62, 35.8, 10.52, 9.93, 3.13, 2.41, 5.98, 51.09, 37.29, 9.99, 9.97, 3.56, 2.4, 5.79, 57.06, 38.61, 12.27, 10.52, 3.46, 2.48, 6.49, 65.81]}]}, \"style\": {\"plot\": {\"yAxis\": {\"label\": {\"fontSize\": \"1em\", \"paddingRight\": \"1.2em\"}, \"title\": {\"color\": \"#ffffff00\"}}, \"xAxis\": {\"label\": {\"angle\": \"2.5\", \"fontSize\": \"1.1em\", \"paddingRight\": \"0em\", \"paddingTop\": \"1em\"}, \"title\": {\"fontSize\": \"0.8em\", \"paddingTop\": \"2.5em\"}}}, \"logo\": {\"width\": \"5em\"}}, \"slides\": [[{\"filter\": record => { return (record.Function !== 'Defense') }, \"config\": {\"channels\": {\"y\": {\"set\": [\"Amount[B$]\", \"Function\"], \"range\": {\"min\": \"0%\", \"max\": \"100%\"}}, \"x\": {\"set\": [\"Year\"]}, \"color\": \"Function\"}, \"title\": \"Stacked Area Chart - U.S. R&D Budget in 1955-2020\", \"geometry\": \"area\"}}], [{\"config\": {\"split\": true, \"title\": \"Show Components Side by Side\"}}], [{\"config\": {\"split\": false}}, {\"filter\": null, \"config\": {\"title\": \"Add New Category While Keeping the Context\"}}], [{\"config\": {\"align\": \"stretch\", \"title\": \"Show Share of Components (%)\"}}], [{\"config\": {\"align\": \"none\"}}, {\"config\": {\"geometry\": \"rectangle\"}}, {\"filter\": record => { return (record.Year === '1955' || record.Year === '2020') }, \"config\": {\"title\": \"Zoom to Specific Elements\"}}], [{\"config\": {\"x\": [\"Year\", \"Function\"], \"y\": \"Amount[B$]\", \"label\": \"Amount[B$]\", \"title\": \"Group & Rearrange for Better Comparison\"}}, {\"config\": {\"x\": [\"Function\", \"Year\"]}}]]};\n",
              "        const vizzuPlayer = document.getElementById(\"1734e1a\")\n",
              "        // story.set_size()\n",
              "        vizzuPlayer.style.cssText = 'width: 100%;height: 400px;'\n",
              "        vizzuPlayer.slides = vizzuPlayerData;\n",
              "        vizzuPlayer.vizzu.initializing.then(chart => {\n",
              "            // story.set_feature()\n",
              "            chart.feature('tooltip', true);\n",
              "            // story.add_event()\n",
              "            chart.on('plot-axis-label-draw', event => {let Year = parseFloat(event.data.text); if (!isNaN(Year) && Year > 1950 && Year < 2020 && Year % 5 !== 0) { event.preventDefault(); }});\n",
              "        });\n",
              "    </script>\n",
              "</div>\n"
            ]
          },
          "metadata": {}
        }
      ],
      "source": [
        "# Set the style of the charts in the story\n",
        "example_style = Style(\n",
        "    {\n",
        "        \"plot\": {\n",
        "            \"yAxis\": {\n",
        "                \"label\": {\n",
        "                    \"fontSize\": \"1em\",\n",
        "                    \"paddingRight\": \"1.2em\",\n",
        "                },\n",
        "                \"title\": {\"color\": \"#ffffff00\"},\n",
        "            },\n",
        "            \"xAxis\": {\n",
        "                \"label\": {\n",
        "                    \"angle\": \"2.5\",\n",
        "                    \"fontSize\": \"1.1em\",\n",
        "                    \"paddingRight\": \"0em\",\n",
        "                    \"paddingTop\": \"1em\",\n",
        "                },\n",
        "                \"title\": {\"fontSize\": \"0.8em\", \"paddingTop\": \"2.5em\"},\n",
        "            },\n",
        "        },\n",
        "        \"logo\": {\"width\": \"5em\"},\n",
        "    }\n",
        ")\n",
        "\n",
        "# Create story object, add data and style settings to it\n",
        "# and set the size of the HTML element\n",
        "# that appears within the notebook.\n",
        "story = Story(data=example_data, style=example_style)\n",
        "story.set_size(\"100%\", \"400px\")\n",
        "\n",
        "# Add the first slide,\n",
        "# containing a single animation step that sets the initial chart.\n",
        "slide1 = Slide(\n",
        "    Step(\n",
        "        # Only include rows where the Function value != Defense\n",
        "        Data.filter(\"record.Function !== 'Defense'\"),\n",
        "        Config(\n",
        "            {\n",
        "                \"channels\": {\n",
        "                    \"y\": {\n",
        "                        \"set\": [\"Amount[B$]\", \"Function\"],\n",
        "                        # Set the range of the y-axis\n",
        "                        # to the min and max of the data being shown\n",
        "                        # default value is 110% of the maximum value.\n",
        "                        \"range\": {\"min\": \"0%\", \"max\": \"100%\"},\n",
        "                    },\n",
        "                    \"x\": {\"set\": [\"Year\"]},\n",
        "                    \"color\": \"Function\",\n",
        "                },\n",
        "                \"title\": \"Stacked Area Chart - U.S. R&D Budget in 1955-2020\",\n",
        "                \"geometry\": \"area\",\n",
        "            }\n",
        "        ),\n",
        "    )\n",
        ")\n",
        "# Add the slide to the story\n",
        "story.add_slide(slide1)\n",
        "\n",
        "# Show components side-by-side\n",
        "slide2 = Slide(\n",
        "    Step(\n",
        "        Config(\n",
        "            {\n",
        "                \"split\": True,\n",
        "                \"title\": \"Show Components Side by Side\",\n",
        "            }\n",
        "        )\n",
        "    )\n",
        ")\n",
        "story.add_slide(slide2)\n",
        "\n",
        "# This slide contains multiple steps.\n",
        "# Note that the slide is created as an empty object,\n",
        "# then steps are added to it one-by-one.\n",
        "slide3 = Slide()\n",
        "\n",
        "# Step 1 - let's get back to the previous view\n",
        "slide3.add_step(Step(Config({\"split\": False})))\n",
        "# Step 2 - Add the defense function to the chart by removing it from the filter\n",
        "slide3.add_step(\n",
        "    Step(\n",
        "        Data.filter(None),\n",
        "        Config({\"title\": \"Add New Category While Keeping the Context\"}),\n",
        "    )\n",
        ")\n",
        "# Add the multi-step slide to the story, just like any other slide.\n",
        "story.add_slide(slide3)\n",
        "\n",
        "# Show share of components\n",
        "slide4 = Slide(\n",
        "    Step(\n",
        "        Config({\"align\": \"stretch\", \"title\": \"Show Share of Components (%)\"})\n",
        "    )\n",
        ")\n",
        "story.add_slide(slide4)\n",
        "\n",
        "# Compare data from 1955 and 2020\n",
        "slide5 = Slide()\n",
        "\n",
        "\n",
        "# Step 1 - switch back to value instead of percentage\n",
        "slide5.add_step(Step(Config({\"align\": \"none\"})))\n",
        "# Step 2 - switch to a stacked column chart by changing the geometry\n",
        "slide5.add_step(\n",
        "    Step(\n",
        "        Config(\n",
        "            {\n",
        "                \"geometry\": \"rectangle\",\n",
        "            }\n",
        "        )\n",
        "    )\n",
        ")\n",
        "# Step 2 - zoom to data from the first and last years\n",
        "slide5.add_step(\n",
        "    Step(\n",
        "        Data.filter(\"record.Year === '1955' || record.Year === '2020' \"),\n",
        "        Config(\n",
        "            {\n",
        "                \"title\": \"Zoom to Specific Elements\",\n",
        "            }\n",
        "        ),\n",
        "    ),\n",
        ")\n",
        "story.add_slide(slide5)\n",
        "\n",
        "# Group & rearrange elements for comparison\n",
        "slide6 = Slide()\n",
        "slide6.add_step(\n",
        "    Step(\n",
        "        Config(\n",
        "            {\n",
        "                \"x\": [\"Year\", \"Function\"],\n",
        "                \"y\": \"Amount[B$]\",\n",
        "                \"label\": \"Amount[B$]\",\n",
        "                \"title\": \"Group & Rearrange for Better Comparison\",\n",
        "            }\n",
        "        )\n",
        "    )\n",
        ")\n",
        "\n",
        "slide6.add_step(Step(Config({\"x\": [\"Function\", \"Year\"]})))\n",
        "story.add_slide(slide6)\n",
        "\n",
        "\n",
        "# Switch on the tooltip that appears\n",
        "# when the user hovers the mouse over a chart element.\n",
        "story.set_feature(\"tooltip\", True)\n",
        "\n",
        "# Set a handler that prevents showing the year values that are not divisible by 5\n",
        "handler = \"\"\"\n",
        "let Year = parseFloat(event.data.text);\n",
        "if (!isNaN(Year) && Year > 1950 && Year < 2020 && Year % 5 !== 0) {\n",
        "    event.preventDefault();\n",
        "}\n",
        "\"\"\"\n",
        "# Add handler to the plot-axis-label-draw event so that it takes effect.\n",
        "story.add_event(\"plot-axis-label-draw\", handler)\n",
        "\n",
        "# Play the created story\n",
        "story.play()"
      ]
    },
    {
      "cell_type": "code",
      "execution_count": 5,
      "id": "3b853f53",
      "metadata": {
        "id": "3b853f53"
      },
      "outputs": [],
      "source": [
        "# If you want to save the story as an interactive HTML\n",
        "# (containing only the output of the previous cell),\n",
        "# use the following command:\n",
        "# story.export_to_html(filename=\"mystory.html\")"
      ]
    },
    {
      "cell_type": "markdown",
      "id": "1a4a70d4",
      "metadata": {
        "id": "1a4a70d4"
      },
      "source": [
        "## Learn more about ipyvizzu-story: [Documentation site](https://vizzuhq.github.io/ipyvizzu-story/), [GitHub repository](https://github.com/vizzuhq/ipyvizzu-story/)"
      ]
    }
  ],
  "metadata": {
    "kernelspec": {
      "display_name": "Python 3 (ipykernel)",
      "language": "python",
      "name": "python3"
    },
    "language_info": {
      "codemirror_mode": {
        "name": "ipython",
        "version": 3
      },
      "file_extension": ".py",
      "mimetype": "text/x-python",
      "name": "python",
      "nbconvert_exporter": "python",
      "pygments_lexer": "ipython3",
      "version": "3.9.12"
    },
    "title": "ipyvizzu-story - Example",
    "colab": {
      "provenance": []
    }
  },
  "nbformat": 4,
  "nbformat_minor": 5
}