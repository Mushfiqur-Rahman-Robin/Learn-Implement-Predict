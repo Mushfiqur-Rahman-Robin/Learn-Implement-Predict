{
  "nbformat": 4,
  "nbformat_minor": 0,
  "metadata": {
    "colab": {
      "name": "FootballWorldCupResults.ipynb",
      "provenance": []
    },
    "kernelspec": {
      "name": "python3",
      "display_name": "Python 3"
    }
  },
  "cells": [
    {
      "cell_type": "code",
      "metadata": {
        "id": "5EYRGlOQ384T",
        "colab_type": "code",
        "colab": {
          "base_uri": "https://localhost:8080/",
          "height": 71
        },
        "outputId": "9ba0782d-3411-4fd6-c0cd-124b8db1cff3"
      },
      "source": [
        "import numpy as np \n",
        "import pandas as pd \n",
        "import seaborn as sns\n",
        "import os\n",
        "import matplotlib.pyplot as plt"
      ],
      "execution_count": 1,
      "outputs": [
        {
          "output_type": "stream",
          "text": [
            "/usr/local/lib/python3.6/dist-packages/statsmodels/tools/_testing.py:19: FutureWarning: pandas.util.testing is deprecated. Use the functions in the public API at pandas.testing instead.\n",
            "  import pandas.util.testing as tm\n"
          ],
          "name": "stderr"
        }
      ]
    },
    {
      "cell_type": "code",
      "metadata": {
        "id": "TouRQNF464p1",
        "colab_type": "code",
        "outputId": "9cfe95ba-06f3-4aa3-fb86-123fe5c57551",
        "colab": {
          "base_uri": "https://localhost:8080/",
          "height": 54
        }
      },
      "source": [
        "print(os.listdir(\"/content/\"))\n",
        "%matplotlib inline"
      ],
      "execution_count": 2,
      "outputs": [
        {
          "output_type": "stream",
          "text": [
            "['.config', 'datasets_7264_10388_World Cup 2018 Dataset.csv', '4305_958870_compressed_results.csv.zip', 'world_cup_results.csv', 'kaggle.json', 'world-cup-results.zip', '.ipynb_checkpoints', '26029_39037_compressed_fifa_ranking.csv.zip', 'sample_data']\n"
          ],
          "name": "stdout"
        }
      ]
    },
    {
      "cell_type": "code",
      "metadata": {
        "id": "-iiPPjMg8fPO",
        "colab_type": "code",
        "colab": {}
      },
      "source": [
        "from matplotlib import pyplot\n",
        "pyplot.style.use('ggplot')"
      ],
      "execution_count": 0,
      "outputs": []
    },
    {
      "cell_type": "code",
      "metadata": {
        "id": "6iCQ9v709WHu",
        "colab_type": "code",
        "outputId": "9a7a8458-641b-4d28-c941-ca41148ba234",
        "colab": {
          "base_uri": "https://localhost:8080/",
          "height": 204
        }
      },
      "source": [
        "path=\"/content/world-cup-results.zip\"\n",
        "df=pd.read_csv(path)\n",
        "df.head()"
      ],
      "execution_count": 4,
      "outputs": [
        {
          "output_type": "execute_result",
          "data": {
            "text/html": [
              "<div>\n",
              "<style scoped>\n",
              "    .dataframe tbody tr th:only-of-type {\n",
              "        vertical-align: middle;\n",
              "    }\n",
              "\n",
              "    .dataframe tbody tr th {\n",
              "        vertical-align: top;\n",
              "    }\n",
              "\n",
              "    .dataframe thead th {\n",
              "        text-align: right;\n",
              "    }\n",
              "</style>\n",
              "<table border=\"1\" class=\"dataframe\">\n",
              "  <thead>\n",
              "    <tr style=\"text-align: right;\">\n",
              "      <th></th>\n",
              "      <th>Year</th>\n",
              "      <th>Date</th>\n",
              "      <th>Time</th>\n",
              "      <th>Round</th>\n",
              "      <th>Stadium</th>\n",
              "      <th>City</th>\n",
              "      <th>HomeTeam</th>\n",
              "      <th>HomeGoals</th>\n",
              "      <th>AwayGoals</th>\n",
              "      <th>AwayTeam</th>\n",
              "      <th>Observation</th>\n",
              "    </tr>\n",
              "  </thead>\n",
              "  <tbody>\n",
              "    <tr>\n",
              "      <th>0</th>\n",
              "      <td>1930</td>\n",
              "      <td>13-Jul-30</td>\n",
              "      <td>15:00</td>\n",
              "      <td>Group 1</td>\n",
              "      <td>Pocitos</td>\n",
              "      <td>Montevideo</td>\n",
              "      <td>France</td>\n",
              "      <td>4</td>\n",
              "      <td>1</td>\n",
              "      <td>Mexico</td>\n",
              "      <td></td>\n",
              "    </tr>\n",
              "    <tr>\n",
              "      <th>1</th>\n",
              "      <td>1930</td>\n",
              "      <td>13-Jul-30</td>\n",
              "      <td>15:00</td>\n",
              "      <td>Group 4</td>\n",
              "      <td>Parque Central</td>\n",
              "      <td>Montevideo</td>\n",
              "      <td>USA</td>\n",
              "      <td>3</td>\n",
              "      <td>0</td>\n",
              "      <td>Belgium</td>\n",
              "      <td></td>\n",
              "    </tr>\n",
              "    <tr>\n",
              "      <th>2</th>\n",
              "      <td>1930</td>\n",
              "      <td>14-Jul-30</td>\n",
              "      <td>12:45</td>\n",
              "      <td>Group 2</td>\n",
              "      <td>Parque Central</td>\n",
              "      <td>Montevideo</td>\n",
              "      <td>Yugoslavia</td>\n",
              "      <td>2</td>\n",
              "      <td>1</td>\n",
              "      <td>Brazil</td>\n",
              "      <td></td>\n",
              "    </tr>\n",
              "    <tr>\n",
              "      <th>3</th>\n",
              "      <td>1930</td>\n",
              "      <td>14-Jul-30</td>\n",
              "      <td>14:50</td>\n",
              "      <td>Group 3</td>\n",
              "      <td>Pocitos</td>\n",
              "      <td>Montevideo</td>\n",
              "      <td>Romania</td>\n",
              "      <td>3</td>\n",
              "      <td>1</td>\n",
              "      <td>Peru</td>\n",
              "      <td></td>\n",
              "    </tr>\n",
              "    <tr>\n",
              "      <th>4</th>\n",
              "      <td>1930</td>\n",
              "      <td>15-Jul-30</td>\n",
              "      <td>16:00</td>\n",
              "      <td>Group 1</td>\n",
              "      <td>Parque Central</td>\n",
              "      <td>Montevideo</td>\n",
              "      <td>Argentina</td>\n",
              "      <td>1</td>\n",
              "      <td>0</td>\n",
              "      <td>France</td>\n",
              "      <td></td>\n",
              "    </tr>\n",
              "  </tbody>\n",
              "</table>\n",
              "</div>"
            ],
            "text/plain": [
              "   Year       Date     Time    Round  ... HomeGoals AwayGoals AwayTeam  Observation\n",
              "0  1930  13-Jul-30   15:00   Group 1  ...         4         1   Mexico             \n",
              "1  1930  13-Jul-30   15:00   Group 4  ...         3         0  Belgium             \n",
              "2  1930  14-Jul-30   12:45   Group 2  ...         2         1   Brazil             \n",
              "3  1930  14-Jul-30   14:50   Group 3  ...         3         1     Peru             \n",
              "4  1930  15-Jul-30   16:00   Group 1  ...         1         0   France             \n",
              "\n",
              "[5 rows x 11 columns]"
            ]
          },
          "metadata": {
            "tags": []
          },
          "execution_count": 4
        }
      ]
    },
    {
      "cell_type": "code",
      "metadata": {
        "id": "Jo99IcA4NIOi",
        "colab_type": "code",
        "outputId": "ae9841e4-49b9-433b-eaef-8e4d08221f51",
        "colab": {
          "base_uri": "https://localhost:8080/",
          "height": 34
        }
      },
      "source": [
        "!kaggle datasets download -d mushfiqurrobin/world-cup-results"
      ],
      "execution_count": 5,
      "outputs": [
        {
          "output_type": "stream",
          "text": [
            "world-cup-results.zip: Skipping, found more recently modified local copy (use --force to force download)\n"
          ],
          "name": "stdout"
        }
      ]
    },
    {
      "cell_type": "code",
      "metadata": {
        "id": "wsm6Sq9pNQ4t",
        "colab_type": "code",
        "colab": {}
      },
      "source": [
        "import tensorflow as tf\n",
        "import os\n",
        "import zipfile\n",
        "from os import path, getcwd, chdir\n",
        "path = \"/content/world-cup-results.zip\"\n",
        "zip_ref = zipfile.ZipFile(path, 'r')\n",
        "zip_ref.extractall(\"/content/\")\n",
        "zip_ref.close()"
      ],
      "execution_count": 0,
      "outputs": []
    },
    {
      "cell_type": "code",
      "metadata": {
        "id": "ED60O7LIgpCx",
        "colab_type": "code",
        "outputId": "f643ff94-eb18-40b5-d004-78157d4ba0b2",
        "colab": {
          "base_uri": "https://localhost:8080/",
          "height": 34
        }
      },
      "source": [
        "tf.__version__"
      ],
      "execution_count": 7,
      "outputs": [
        {
          "output_type": "execute_result",
          "data": {
            "text/plain": [
              "'2.1.0'"
            ]
          },
          "metadata": {
            "tags": []
          },
          "execution_count": 7
        }
      ]
    },
    {
      "cell_type": "code",
      "metadata": {
        "id": "fhndR02-kXGz",
        "colab_type": "code",
        "outputId": "d5df7dbd-5355-4b8b-8e52-1057e5c4d87e",
        "colab": {
          "base_uri": "https://localhost:8080/",
          "height": 204
        }
      },
      "source": [
        "df = pd.read_csv(\"/content/world_cup_results.csv\")\n",
        "df.head()"
      ],
      "execution_count": 8,
      "outputs": [
        {
          "output_type": "execute_result",
          "data": {
            "text/html": [
              "<div>\n",
              "<style scoped>\n",
              "    .dataframe tbody tr th:only-of-type {\n",
              "        vertical-align: middle;\n",
              "    }\n",
              "\n",
              "    .dataframe tbody tr th {\n",
              "        vertical-align: top;\n",
              "    }\n",
              "\n",
              "    .dataframe thead th {\n",
              "        text-align: right;\n",
              "    }\n",
              "</style>\n",
              "<table border=\"1\" class=\"dataframe\">\n",
              "  <thead>\n",
              "    <tr style=\"text-align: right;\">\n",
              "      <th></th>\n",
              "      <th>Year</th>\n",
              "      <th>Date</th>\n",
              "      <th>Time</th>\n",
              "      <th>Round</th>\n",
              "      <th>Stadium</th>\n",
              "      <th>City</th>\n",
              "      <th>HomeTeam</th>\n",
              "      <th>HomeGoals</th>\n",
              "      <th>AwayGoals</th>\n",
              "      <th>AwayTeam</th>\n",
              "      <th>Observation</th>\n",
              "    </tr>\n",
              "  </thead>\n",
              "  <tbody>\n",
              "    <tr>\n",
              "      <th>0</th>\n",
              "      <td>1930</td>\n",
              "      <td>13-Jul-30</td>\n",
              "      <td>15:00</td>\n",
              "      <td>Group 1</td>\n",
              "      <td>Pocitos</td>\n",
              "      <td>Montevideo</td>\n",
              "      <td>France</td>\n",
              "      <td>4</td>\n",
              "      <td>1</td>\n",
              "      <td>Mexico</td>\n",
              "      <td></td>\n",
              "    </tr>\n",
              "    <tr>\n",
              "      <th>1</th>\n",
              "      <td>1930</td>\n",
              "      <td>13-Jul-30</td>\n",
              "      <td>15:00</td>\n",
              "      <td>Group 4</td>\n",
              "      <td>Parque Central</td>\n",
              "      <td>Montevideo</td>\n",
              "      <td>USA</td>\n",
              "      <td>3</td>\n",
              "      <td>0</td>\n",
              "      <td>Belgium</td>\n",
              "      <td></td>\n",
              "    </tr>\n",
              "    <tr>\n",
              "      <th>2</th>\n",
              "      <td>1930</td>\n",
              "      <td>14-Jul-30</td>\n",
              "      <td>12:45</td>\n",
              "      <td>Group 2</td>\n",
              "      <td>Parque Central</td>\n",
              "      <td>Montevideo</td>\n",
              "      <td>Yugoslavia</td>\n",
              "      <td>2</td>\n",
              "      <td>1</td>\n",
              "      <td>Brazil</td>\n",
              "      <td></td>\n",
              "    </tr>\n",
              "    <tr>\n",
              "      <th>3</th>\n",
              "      <td>1930</td>\n",
              "      <td>14-Jul-30</td>\n",
              "      <td>14:50</td>\n",
              "      <td>Group 3</td>\n",
              "      <td>Pocitos</td>\n",
              "      <td>Montevideo</td>\n",
              "      <td>Romania</td>\n",
              "      <td>3</td>\n",
              "      <td>1</td>\n",
              "      <td>Peru</td>\n",
              "      <td></td>\n",
              "    </tr>\n",
              "    <tr>\n",
              "      <th>4</th>\n",
              "      <td>1930</td>\n",
              "      <td>15-Jul-30</td>\n",
              "      <td>16:00</td>\n",
              "      <td>Group 1</td>\n",
              "      <td>Parque Central</td>\n",
              "      <td>Montevideo</td>\n",
              "      <td>Argentina</td>\n",
              "      <td>1</td>\n",
              "      <td>0</td>\n",
              "      <td>France</td>\n",
              "      <td></td>\n",
              "    </tr>\n",
              "  </tbody>\n",
              "</table>\n",
              "</div>"
            ],
            "text/plain": [
              "   Year       Date     Time    Round  ... HomeGoals AwayGoals AwayTeam  Observation\n",
              "0  1930  13-Jul-30   15:00   Group 1  ...         4         1   Mexico             \n",
              "1  1930  13-Jul-30   15:00   Group 4  ...         3         0  Belgium             \n",
              "2  1930  14-Jul-30   12:45   Group 2  ...         2         1   Brazil             \n",
              "3  1930  14-Jul-30   14:50   Group 3  ...         3         1     Peru             \n",
              "4  1930  15-Jul-30   16:00   Group 1  ...         1         0   France             \n",
              "\n",
              "[5 rows x 11 columns]"
            ]
          },
          "metadata": {
            "tags": []
          },
          "execution_count": 8
        }
      ]
    },
    {
      "cell_type": "code",
      "metadata": {
        "id": "sUqzwgkGm855",
        "colab_type": "code",
        "colab": {
          "base_uri": "https://localhost:8080/",
          "height": 221
        },
        "outputId": "c1200fd0-07ec-4415-f07f-47f47ca422a3"
      },
      "source": [
        "df['Year']"
      ],
      "execution_count": 9,
      "outputs": [
        {
          "output_type": "execute_result",
          "data": {
            "text/plain": [
              "0      1930\n",
              "1      1930\n",
              "2      1930\n",
              "3      1930\n",
              "4      1930\n",
              "       ... \n",
              "847    2014\n",
              "848    2014\n",
              "849    2014\n",
              "850    2014\n",
              "851    2014\n",
              "Name: Year, Length: 852, dtype: int64"
            ]
          },
          "metadata": {
            "tags": []
          },
          "execution_count": 9
        }
      ]
    },
    {
      "cell_type": "code",
      "metadata": {
        "id": "fvF9FTYDpNRj",
        "colab_type": "code",
        "colab": {
          "base_uri": "https://localhost:8080/",
          "height": 374
        },
        "outputId": "e9596cb4-c7ca-4496-ac7f-d2a0df454da7"
      },
      "source": [
        "df['Year'].value_counts()"
      ],
      "execution_count": 10,
      "outputs": [
        {
          "output_type": "execute_result",
          "data": {
            "text/plain": [
              "2014    80\n",
              "2010    64\n",
              "2006    64\n",
              "2002    64\n",
              "1998    64\n",
              "1994    52\n",
              "1990    52\n",
              "1986    52\n",
              "1982    52\n",
              "1974    38\n",
              "1978    38\n",
              "1958    35\n",
              "1970    32\n",
              "1966    32\n",
              "1962    32\n",
              "1954    26\n",
              "1950    22\n",
              "1938    18\n",
              "1930    18\n",
              "1934    17\n",
              "Name: Year, dtype: int64"
            ]
          },
          "metadata": {
            "tags": []
          },
          "execution_count": 10
        }
      ]
    },
    {
      "cell_type": "code",
      "metadata": {
        "id": "f5GtnG-_dVWL",
        "colab_type": "code",
        "colab": {
          "base_uri": "https://localhost:8080/",
          "height": 669
        },
        "outputId": "803ff97b-09e8-4162-d681-300d7b1cd16b"
      },
      "source": [
        "matches_per_year = df.Year.value_counts() \n",
        "all_games = pd.DataFrame(matches_per_year)\n",
        "all_games.reset_index(inplace=True)\n",
        "all_games.columns = ['Year', 'Matches']\n",
        "all_games"
      ],
      "execution_count": 11,
      "outputs": [
        {
          "output_type": "execute_result",
          "data": {
            "text/html": [
              "<div>\n",
              "<style scoped>\n",
              "    .dataframe tbody tr th:only-of-type {\n",
              "        vertical-align: middle;\n",
              "    }\n",
              "\n",
              "    .dataframe tbody tr th {\n",
              "        vertical-align: top;\n",
              "    }\n",
              "\n",
              "    .dataframe thead th {\n",
              "        text-align: right;\n",
              "    }\n",
              "</style>\n",
              "<table border=\"1\" class=\"dataframe\">\n",
              "  <thead>\n",
              "    <tr style=\"text-align: right;\">\n",
              "      <th></th>\n",
              "      <th>Year</th>\n",
              "      <th>Matches</th>\n",
              "    </tr>\n",
              "  </thead>\n",
              "  <tbody>\n",
              "    <tr>\n",
              "      <th>0</th>\n",
              "      <td>2014</td>\n",
              "      <td>80</td>\n",
              "    </tr>\n",
              "    <tr>\n",
              "      <th>1</th>\n",
              "      <td>2010</td>\n",
              "      <td>64</td>\n",
              "    </tr>\n",
              "    <tr>\n",
              "      <th>2</th>\n",
              "      <td>2006</td>\n",
              "      <td>64</td>\n",
              "    </tr>\n",
              "    <tr>\n",
              "      <th>3</th>\n",
              "      <td>2002</td>\n",
              "      <td>64</td>\n",
              "    </tr>\n",
              "    <tr>\n",
              "      <th>4</th>\n",
              "      <td>1998</td>\n",
              "      <td>64</td>\n",
              "    </tr>\n",
              "    <tr>\n",
              "      <th>5</th>\n",
              "      <td>1994</td>\n",
              "      <td>52</td>\n",
              "    </tr>\n",
              "    <tr>\n",
              "      <th>6</th>\n",
              "      <td>1990</td>\n",
              "      <td>52</td>\n",
              "    </tr>\n",
              "    <tr>\n",
              "      <th>7</th>\n",
              "      <td>1986</td>\n",
              "      <td>52</td>\n",
              "    </tr>\n",
              "    <tr>\n",
              "      <th>8</th>\n",
              "      <td>1982</td>\n",
              "      <td>52</td>\n",
              "    </tr>\n",
              "    <tr>\n",
              "      <th>9</th>\n",
              "      <td>1974</td>\n",
              "      <td>38</td>\n",
              "    </tr>\n",
              "    <tr>\n",
              "      <th>10</th>\n",
              "      <td>1978</td>\n",
              "      <td>38</td>\n",
              "    </tr>\n",
              "    <tr>\n",
              "      <th>11</th>\n",
              "      <td>1958</td>\n",
              "      <td>35</td>\n",
              "    </tr>\n",
              "    <tr>\n",
              "      <th>12</th>\n",
              "      <td>1970</td>\n",
              "      <td>32</td>\n",
              "    </tr>\n",
              "    <tr>\n",
              "      <th>13</th>\n",
              "      <td>1966</td>\n",
              "      <td>32</td>\n",
              "    </tr>\n",
              "    <tr>\n",
              "      <th>14</th>\n",
              "      <td>1962</td>\n",
              "      <td>32</td>\n",
              "    </tr>\n",
              "    <tr>\n",
              "      <th>15</th>\n",
              "      <td>1954</td>\n",
              "      <td>26</td>\n",
              "    </tr>\n",
              "    <tr>\n",
              "      <th>16</th>\n",
              "      <td>1950</td>\n",
              "      <td>22</td>\n",
              "    </tr>\n",
              "    <tr>\n",
              "      <th>17</th>\n",
              "      <td>1938</td>\n",
              "      <td>18</td>\n",
              "    </tr>\n",
              "    <tr>\n",
              "      <th>18</th>\n",
              "      <td>1930</td>\n",
              "      <td>18</td>\n",
              "    </tr>\n",
              "    <tr>\n",
              "      <th>19</th>\n",
              "      <td>1934</td>\n",
              "      <td>17</td>\n",
              "    </tr>\n",
              "  </tbody>\n",
              "</table>\n",
              "</div>"
            ],
            "text/plain": [
              "    Year  Matches\n",
              "0   2014       80\n",
              "1   2010       64\n",
              "2   2006       64\n",
              "3   2002       64\n",
              "4   1998       64\n",
              "5   1994       52\n",
              "6   1990       52\n",
              "7   1986       52\n",
              "8   1982       52\n",
              "9   1974       38\n",
              "10  1978       38\n",
              "11  1958       35\n",
              "12  1970       32\n",
              "13  1966       32\n",
              "14  1962       32\n",
              "15  1954       26\n",
              "16  1950       22\n",
              "17  1938       18\n",
              "18  1930       18\n",
              "19  1934       17"
            ]
          },
          "metadata": {
            "tags": []
          },
          "execution_count": 11
        }
      ]
    },
    {
      "cell_type": "code",
      "metadata": {
        "id": "0Mo8ozNOlKGs",
        "colab_type": "code",
        "colab": {}
      },
      "source": [
        "import plotly.express as px\n",
        "\n",
        "fig = px.bar(all_games, x='Year', y='Matches', text='Matches', height=500,\n",
        "labels={'Matches':'Matches Played', 'Year':'World Cup Year'},\n",
        "title=\"Total Matches Played Each World Cup Year\")"
      ],
      "execution_count": 0,
      "outputs": []
    },
    {
      "cell_type": "code",
      "metadata": {
        "id": "E2FXWDsIcsk5",
        "colab_type": "code",
        "colab": {
          "base_uri": "https://localhost:8080/",
          "height": 517
        },
        "outputId": "7bd19783-8a68-49a1-fdd8-5f769d7a3498"
      },
      "source": [
        "fig.update_xaxes(\n",
        "tickangle=45, tickfont=dict(family='Arial', color='blue', size=14),\n",
        "tickvals=[line for line in all_games.Year])\n",
        "fig.show()\n"
      ],
      "execution_count": 13,
      "outputs": [
        {
          "output_type": "display_data",
          "data": {
            "text/html": [
              "<html>\n",
              "<head><meta charset=\"utf-8\" /></head>\n",
              "<body>\n",
              "    <div>\n",
              "            <script src=\"https://cdnjs.cloudflare.com/ajax/libs/mathjax/2.7.5/MathJax.js?config=TeX-AMS-MML_SVG\"></script><script type=\"text/javascript\">if (window.MathJax) {MathJax.Hub.Config({SVG: {font: \"STIX-Web\"}});}</script>\n",
              "                <script type=\"text/javascript\">window.PlotlyConfig = {MathJaxConfig: 'local'};</script>\n",
              "        <script src=\"https://cdn.plot.ly/plotly-latest.min.js\"></script>    \n",
              "            <div id=\"0dc711c0-42b0-42be-a200-796cb1d927ba\" class=\"plotly-graph-div\" style=\"height:500px; width:100%;\"></div>\n",
              "            <script type=\"text/javascript\">\n",
              "                \n",
              "                    window.PLOTLYENV=window.PLOTLYENV || {};\n",
              "                    \n",
              "                if (document.getElementById(\"0dc711c0-42b0-42be-a200-796cb1d927ba\")) {\n",
              "                    Plotly.newPlot(\n",
              "                        '0dc711c0-42b0-42be-a200-796cb1d927ba',\n",
              "                        [{\"alignmentgroup\": \"True\", \"hoverlabel\": {\"namelength\": 0}, \"hovertemplate\": \"World Cup Year=%{x}<br>Matches Played=%{text}\", \"legendgroup\": \"\", \"marker\": {\"color\": \"#636efa\"}, \"name\": \"\", \"offsetgroup\": \"\", \"orientation\": \"v\", \"showlegend\": false, \"text\": [80.0, 64.0, 64.0, 64.0, 64.0, 52.0, 52.0, 52.0, 52.0, 38.0, 38.0, 35.0, 32.0, 32.0, 32.0, 26.0, 22.0, 18.0, 18.0, 17.0], \"textposition\": \"auto\", \"type\": \"bar\", \"x\": [2014, 2010, 2006, 2002, 1998, 1994, 1990, 1986, 1982, 1974, 1978, 1958, 1970, 1966, 1962, 1954, 1950, 1938, 1930, 1934], \"xaxis\": \"x\", \"y\": [80, 64, 64, 64, 64, 52, 52, 52, 52, 38, 38, 35, 32, 32, 32, 26, 22, 18, 18, 17], \"yaxis\": \"y\"}],\n",
              "                        {\"barmode\": \"relative\", \"height\": 500, \"legend\": {\"tracegroupgap\": 0}, \"template\": {\"data\": {\"bar\": [{\"error_x\": {\"color\": \"#2a3f5f\"}, \"error_y\": {\"color\": \"#2a3f5f\"}, \"marker\": {\"line\": {\"color\": \"#E5ECF6\", \"width\": 0.5}}, \"type\": \"bar\"}], \"barpolar\": [{\"marker\": {\"line\": {\"color\": \"#E5ECF6\", \"width\": 0.5}}, \"type\": \"barpolar\"}], \"carpet\": [{\"aaxis\": {\"endlinecolor\": \"#2a3f5f\", \"gridcolor\": \"white\", \"linecolor\": \"white\", \"minorgridcolor\": \"white\", \"startlinecolor\": \"#2a3f5f\"}, \"baxis\": {\"endlinecolor\": \"#2a3f5f\", \"gridcolor\": \"white\", \"linecolor\": \"white\", \"minorgridcolor\": \"white\", \"startlinecolor\": \"#2a3f5f\"}, \"type\": \"carpet\"}], \"choropleth\": [{\"colorbar\": {\"outlinewidth\": 0, \"ticks\": \"\"}, \"type\": \"choropleth\"}], \"contour\": [{\"colorbar\": {\"outlinewidth\": 0, \"ticks\": \"\"}, \"colorscale\": [[0.0, \"#0d0887\"], [0.1111111111111111, \"#46039f\"], [0.2222222222222222, \"#7201a8\"], [0.3333333333333333, \"#9c179e\"], [0.4444444444444444, \"#bd3786\"], [0.5555555555555556, \"#d8576b\"], [0.6666666666666666, \"#ed7953\"], [0.7777777777777778, \"#fb9f3a\"], [0.8888888888888888, \"#fdca26\"], [1.0, \"#f0f921\"]], \"type\": \"contour\"}], \"contourcarpet\": [{\"colorbar\": {\"outlinewidth\": 0, \"ticks\": \"\"}, \"type\": \"contourcarpet\"}], \"heatmap\": [{\"colorbar\": {\"outlinewidth\": 0, \"ticks\": \"\"}, \"colorscale\": [[0.0, \"#0d0887\"], [0.1111111111111111, \"#46039f\"], [0.2222222222222222, \"#7201a8\"], [0.3333333333333333, \"#9c179e\"], [0.4444444444444444, \"#bd3786\"], [0.5555555555555556, \"#d8576b\"], [0.6666666666666666, \"#ed7953\"], [0.7777777777777778, \"#fb9f3a\"], [0.8888888888888888, \"#fdca26\"], [1.0, \"#f0f921\"]], \"type\": \"heatmap\"}], \"heatmapgl\": [{\"colorbar\": {\"outlinewidth\": 0, \"ticks\": \"\"}, \"colorscale\": [[0.0, \"#0d0887\"], [0.1111111111111111, \"#46039f\"], [0.2222222222222222, \"#7201a8\"], [0.3333333333333333, \"#9c179e\"], [0.4444444444444444, \"#bd3786\"], [0.5555555555555556, \"#d8576b\"], [0.6666666666666666, \"#ed7953\"], [0.7777777777777778, \"#fb9f3a\"], [0.8888888888888888, \"#fdca26\"], [1.0, \"#f0f921\"]], \"type\": \"heatmapgl\"}], \"histogram\": [{\"marker\": {\"colorbar\": {\"outlinewidth\": 0, \"ticks\": \"\"}}, \"type\": \"histogram\"}], \"histogram2d\": [{\"colorbar\": {\"outlinewidth\": 0, \"ticks\": \"\"}, \"colorscale\": [[0.0, \"#0d0887\"], [0.1111111111111111, \"#46039f\"], [0.2222222222222222, \"#7201a8\"], [0.3333333333333333, \"#9c179e\"], [0.4444444444444444, \"#bd3786\"], [0.5555555555555556, \"#d8576b\"], [0.6666666666666666, \"#ed7953\"], [0.7777777777777778, \"#fb9f3a\"], [0.8888888888888888, \"#fdca26\"], [1.0, \"#f0f921\"]], \"type\": \"histogram2d\"}], \"histogram2dcontour\": [{\"colorbar\": {\"outlinewidth\": 0, \"ticks\": \"\"}, \"colorscale\": [[0.0, \"#0d0887\"], [0.1111111111111111, \"#46039f\"], [0.2222222222222222, \"#7201a8\"], [0.3333333333333333, \"#9c179e\"], [0.4444444444444444, \"#bd3786\"], [0.5555555555555556, \"#d8576b\"], [0.6666666666666666, \"#ed7953\"], [0.7777777777777778, \"#fb9f3a\"], [0.8888888888888888, \"#fdca26\"], [1.0, \"#f0f921\"]], \"type\": \"histogram2dcontour\"}], \"mesh3d\": [{\"colorbar\": {\"outlinewidth\": 0, \"ticks\": \"\"}, \"type\": \"mesh3d\"}], \"parcoords\": [{\"line\": {\"colorbar\": {\"outlinewidth\": 0, \"ticks\": \"\"}}, \"type\": \"parcoords\"}], \"pie\": [{\"automargin\": true, \"type\": \"pie\"}], \"scatter\": [{\"marker\": {\"colorbar\": {\"outlinewidth\": 0, \"ticks\": \"\"}}, \"type\": \"scatter\"}], \"scatter3d\": [{\"line\": {\"colorbar\": {\"outlinewidth\": 0, \"ticks\": \"\"}}, \"marker\": {\"colorbar\": {\"outlinewidth\": 0, \"ticks\": \"\"}}, \"type\": \"scatter3d\"}], \"scattercarpet\": [{\"marker\": {\"colorbar\": {\"outlinewidth\": 0, \"ticks\": \"\"}}, \"type\": \"scattercarpet\"}], \"scattergeo\": [{\"marker\": {\"colorbar\": {\"outlinewidth\": 0, \"ticks\": \"\"}}, \"type\": \"scattergeo\"}], \"scattergl\": [{\"marker\": {\"colorbar\": {\"outlinewidth\": 0, \"ticks\": \"\"}}, \"type\": \"scattergl\"}], \"scattermapbox\": [{\"marker\": {\"colorbar\": {\"outlinewidth\": 0, \"ticks\": \"\"}}, \"type\": \"scattermapbox\"}], \"scatterpolar\": [{\"marker\": {\"colorbar\": {\"outlinewidth\": 0, \"ticks\": \"\"}}, \"type\": \"scatterpolar\"}], \"scatterpolargl\": [{\"marker\": {\"colorbar\": {\"outlinewidth\": 0, \"ticks\": \"\"}}, \"type\": \"scatterpolargl\"}], \"scatterternary\": [{\"marker\": {\"colorbar\": {\"outlinewidth\": 0, \"ticks\": \"\"}}, \"type\": \"scatterternary\"}], \"surface\": [{\"colorbar\": {\"outlinewidth\": 0, \"ticks\": \"\"}, \"colorscale\": [[0.0, \"#0d0887\"], [0.1111111111111111, \"#46039f\"], [0.2222222222222222, \"#7201a8\"], [0.3333333333333333, \"#9c179e\"], [0.4444444444444444, \"#bd3786\"], [0.5555555555555556, \"#d8576b\"], [0.6666666666666666, \"#ed7953\"], [0.7777777777777778, \"#fb9f3a\"], [0.8888888888888888, \"#fdca26\"], [1.0, \"#f0f921\"]], \"type\": \"surface\"}], \"table\": [{\"cells\": {\"fill\": {\"color\": \"#EBF0F8\"}, \"line\": {\"color\": \"white\"}}, \"header\": {\"fill\": {\"color\": \"#C8D4E3\"}, \"line\": {\"color\": \"white\"}}, \"type\": \"table\"}]}, \"layout\": {\"annotationdefaults\": {\"arrowcolor\": \"#2a3f5f\", \"arrowhead\": 0, \"arrowwidth\": 1}, \"coloraxis\": {\"colorbar\": {\"outlinewidth\": 0, \"ticks\": \"\"}}, \"colorscale\": {\"diverging\": [[0, \"#8e0152\"], [0.1, \"#c51b7d\"], [0.2, \"#de77ae\"], [0.3, \"#f1b6da\"], [0.4, \"#fde0ef\"], [0.5, \"#f7f7f7\"], [0.6, \"#e6f5d0\"], [0.7, \"#b8e186\"], [0.8, \"#7fbc41\"], [0.9, \"#4d9221\"], [1, \"#276419\"]], \"sequential\": [[0.0, \"#0d0887\"], [0.1111111111111111, \"#46039f\"], [0.2222222222222222, \"#7201a8\"], [0.3333333333333333, \"#9c179e\"], [0.4444444444444444, \"#bd3786\"], [0.5555555555555556, \"#d8576b\"], [0.6666666666666666, \"#ed7953\"], [0.7777777777777778, \"#fb9f3a\"], [0.8888888888888888, \"#fdca26\"], [1.0, \"#f0f921\"]], \"sequentialminus\": [[0.0, \"#0d0887\"], [0.1111111111111111, \"#46039f\"], [0.2222222222222222, \"#7201a8\"], [0.3333333333333333, \"#9c179e\"], [0.4444444444444444, \"#bd3786\"], [0.5555555555555556, \"#d8576b\"], [0.6666666666666666, \"#ed7953\"], [0.7777777777777778, \"#fb9f3a\"], [0.8888888888888888, \"#fdca26\"], [1.0, \"#f0f921\"]]}, \"colorway\": [\"#636efa\", \"#EF553B\", \"#00cc96\", \"#ab63fa\", \"#FFA15A\", \"#19d3f3\", \"#FF6692\", \"#B6E880\", \"#FF97FF\", \"#FECB52\"], \"font\": {\"color\": \"#2a3f5f\"}, \"geo\": {\"bgcolor\": \"white\", \"lakecolor\": \"white\", \"landcolor\": \"#E5ECF6\", \"showlakes\": true, \"showland\": true, \"subunitcolor\": \"white\"}, \"hoverlabel\": {\"align\": \"left\"}, \"hovermode\": \"closest\", \"mapbox\": {\"style\": \"light\"}, \"paper_bgcolor\": \"white\", \"plot_bgcolor\": \"#E5ECF6\", \"polar\": {\"angularaxis\": {\"gridcolor\": \"white\", \"linecolor\": \"white\", \"ticks\": \"\"}, \"bgcolor\": \"#E5ECF6\", \"radialaxis\": {\"gridcolor\": \"white\", \"linecolor\": \"white\", \"ticks\": \"\"}}, \"scene\": {\"xaxis\": {\"backgroundcolor\": \"#E5ECF6\", \"gridcolor\": \"white\", \"gridwidth\": 2, \"linecolor\": \"white\", \"showbackground\": true, \"ticks\": \"\", \"zerolinecolor\": \"white\"}, \"yaxis\": {\"backgroundcolor\": \"#E5ECF6\", \"gridcolor\": \"white\", \"gridwidth\": 2, \"linecolor\": \"white\", \"showbackground\": true, \"ticks\": \"\", \"zerolinecolor\": \"white\"}, \"zaxis\": {\"backgroundcolor\": \"#E5ECF6\", \"gridcolor\": \"white\", \"gridwidth\": 2, \"linecolor\": \"white\", \"showbackground\": true, \"ticks\": \"\", \"zerolinecolor\": \"white\"}}, \"shapedefaults\": {\"line\": {\"color\": \"#2a3f5f\"}}, \"ternary\": {\"aaxis\": {\"gridcolor\": \"white\", \"linecolor\": \"white\", \"ticks\": \"\"}, \"baxis\": {\"gridcolor\": \"white\", \"linecolor\": \"white\", \"ticks\": \"\"}, \"bgcolor\": \"#E5ECF6\", \"caxis\": {\"gridcolor\": \"white\", \"linecolor\": \"white\", \"ticks\": \"\"}}, \"title\": {\"x\": 0.05}, \"xaxis\": {\"automargin\": true, \"gridcolor\": \"white\", \"linecolor\": \"white\", \"ticks\": \"\", \"title\": {\"standoff\": 15}, \"zerolinecolor\": \"white\", \"zerolinewidth\": 2}, \"yaxis\": {\"automargin\": true, \"gridcolor\": \"white\", \"linecolor\": \"white\", \"ticks\": \"\", \"title\": {\"standoff\": 15}, \"zerolinecolor\": \"white\", \"zerolinewidth\": 2}}}, \"title\": {\"text\": \"Total Matches Played Each World Cup Year\"}, \"xaxis\": {\"anchor\": \"y\", \"domain\": [0.0, 1.0], \"tickangle\": 45, \"tickfont\": {\"color\": \"blue\", \"family\": \"Arial\", \"size\": 14}, \"tickvals\": [2014, 2010, 2006, 2002, 1998, 1994, 1990, 1986, 1982, 1974, 1978, 1958, 1970, 1966, 1962, 1954, 1950, 1938, 1930, 1934], \"title\": {\"text\": \"World Cup Year\"}}, \"yaxis\": {\"anchor\": \"x\", \"domain\": [0.0, 1.0], \"title\": {\"text\": \"Matches Played\"}}},\n",
              "                        {\"responsive\": true}\n",
              "                    ).then(function(){\n",
              "                            \n",
              "var gd = document.getElementById('0dc711c0-42b0-42be-a200-796cb1d927ba');\n",
              "var x = new MutationObserver(function (mutations, observer) {{\n",
              "        var display = window.getComputedStyle(gd).display;\n",
              "        if (!display || display === 'none') {{\n",
              "            console.log([gd, 'removed!']);\n",
              "            Plotly.purge(gd);\n",
              "            observer.disconnect();\n",
              "        }}\n",
              "}});\n",
              "\n",
              "// Listen for the removal of the full notebook cells\n",
              "var notebookContainer = gd.closest('#notebook-container');\n",
              "if (notebookContainer) {{\n",
              "    x.observe(notebookContainer, {childList: true});\n",
              "}}\n",
              "\n",
              "// Listen for the clearing of the current output cell\n",
              "var outputEl = gd.closest('.output');\n",
              "if (outputEl) {{\n",
              "    x.observe(outputEl, {childList: true});\n",
              "}}\n",
              "\n",
              "                        })\n",
              "                };\n",
              "                \n",
              "            </script>\n",
              "        </div>\n",
              "</body>\n",
              "</html>"
            ]
          },
          "metadata": {
            "tags": []
          }
        }
      ]
    },
    {
      "cell_type": "code",
      "metadata": {
        "id": "pdYaHFQtp70_",
        "colab_type": "code",
        "colab": {
          "base_uri": "https://localhost:8080/",
          "height": 34
        },
        "outputId": "c37a35c2-8deb-4f87-eaa3-d9260fe16ccb"
      },
      "source": [
        "df1 = df['HomeGoals'].sum() + df['AwayGoals'].sum()\n",
        "df1"
      ],
      "execution_count": 14,
      "outputs": [
        {
          "output_type": "execute_result",
          "data": {
            "text/plain": [
              "2414"
            ]
          },
          "metadata": {
            "tags": []
          },
          "execution_count": 14
        }
      ]
    },
    {
      "cell_type": "code",
      "metadata": {
        "id": "YBqxZHScFJnT",
        "colab_type": "code",
        "colab": {
          "base_uri": "https://localhost:8080/",
          "height": 357
        },
        "outputId": "678cfeee-f55c-4196-cc59-8b2a66442874"
      },
      "source": [
        "df.tail()"
      ],
      "execution_count": 15,
      "outputs": [
        {
          "output_type": "execute_result",
          "data": {
            "text/html": [
              "<div>\n",
              "<style scoped>\n",
              "    .dataframe tbody tr th:only-of-type {\n",
              "        vertical-align: middle;\n",
              "    }\n",
              "\n",
              "    .dataframe tbody tr th {\n",
              "        vertical-align: top;\n",
              "    }\n",
              "\n",
              "    .dataframe thead th {\n",
              "        text-align: right;\n",
              "    }\n",
              "</style>\n",
              "<table border=\"1\" class=\"dataframe\">\n",
              "  <thead>\n",
              "    <tr style=\"text-align: right;\">\n",
              "      <th></th>\n",
              "      <th>Year</th>\n",
              "      <th>Date</th>\n",
              "      <th>Time</th>\n",
              "      <th>Round</th>\n",
              "      <th>Stadium</th>\n",
              "      <th>City</th>\n",
              "      <th>HomeTeam</th>\n",
              "      <th>HomeGoals</th>\n",
              "      <th>AwayGoals</th>\n",
              "      <th>AwayTeam</th>\n",
              "      <th>Observation</th>\n",
              "    </tr>\n",
              "  </thead>\n",
              "  <tbody>\n",
              "    <tr>\n",
              "      <th>847</th>\n",
              "      <td>2014</td>\n",
              "      <td>5-Jul-14</td>\n",
              "      <td>17:00</td>\n",
              "      <td>Quarter-finals</td>\n",
              "      <td>Arena Fonte Nova</td>\n",
              "      <td>Salvador</td>\n",
              "      <td>Netherlands</td>\n",
              "      <td>0</td>\n",
              "      <td>0</td>\n",
              "      <td>Costa Rica</td>\n",
              "      <td>Netherlands win on penalties (4 - 3)</td>\n",
              "    </tr>\n",
              "    <tr>\n",
              "      <th>848</th>\n",
              "      <td>2014</td>\n",
              "      <td>8-Jul-14</td>\n",
              "      <td>17:00</td>\n",
              "      <td>Semi-finals</td>\n",
              "      <td>Estadio Mineirao</td>\n",
              "      <td>Belo Horizonte</td>\n",
              "      <td>Brazil</td>\n",
              "      <td>1</td>\n",
              "      <td>7</td>\n",
              "      <td>Germany</td>\n",
              "      <td></td>\n",
              "    </tr>\n",
              "    <tr>\n",
              "      <th>849</th>\n",
              "      <td>2014</td>\n",
              "      <td>9-Jul-14</td>\n",
              "      <td>17:00</td>\n",
              "      <td>Semi-finals</td>\n",
              "      <td>Arena de Sao Paulo</td>\n",
              "      <td>Sao Paulo</td>\n",
              "      <td>Netherlands</td>\n",
              "      <td>0</td>\n",
              "      <td>0</td>\n",
              "      <td>Argentina</td>\n",
              "      <td>Argentina win on penalties (2 - 4)</td>\n",
              "    </tr>\n",
              "    <tr>\n",
              "      <th>850</th>\n",
              "      <td>2014</td>\n",
              "      <td>12-Jul-14</td>\n",
              "      <td>17:00</td>\n",
              "      <td>Play-off for third place</td>\n",
              "      <td>Estadio Nacional</td>\n",
              "      <td>Brasilia</td>\n",
              "      <td>Brazil</td>\n",
              "      <td>0</td>\n",
              "      <td>3</td>\n",
              "      <td>Netherlands</td>\n",
              "      <td></td>\n",
              "    </tr>\n",
              "    <tr>\n",
              "      <th>851</th>\n",
              "      <td>2014</td>\n",
              "      <td>13-Jul-14</td>\n",
              "      <td>16:00</td>\n",
              "      <td>Final</td>\n",
              "      <td>Estadio do Maracana</td>\n",
              "      <td>Rio De Janeiro</td>\n",
              "      <td>Germany</td>\n",
              "      <td>1</td>\n",
              "      <td>0</td>\n",
              "      <td>Argentina</td>\n",
              "      <td>Germany win after extra time</td>\n",
              "    </tr>\n",
              "  </tbody>\n",
              "</table>\n",
              "</div>"
            ],
            "text/plain": [
              "     Year       Date  ...     AwayTeam                            Observation\n",
              "847  2014   5-Jul-14  ...   Costa Rica  Netherlands win on penalties (4 - 3) \n",
              "848  2014   8-Jul-14  ...      Germany                                       \n",
              "849  2014   9-Jul-14  ...    Argentina    Argentina win on penalties (2 - 4) \n",
              "850  2014  12-Jul-14  ...  Netherlands                                       \n",
              "851  2014  13-Jul-14  ...    Argentina          Germany win after extra time \n",
              "\n",
              "[5 rows x 11 columns]"
            ]
          },
          "metadata": {
            "tags": []
          },
          "execution_count": 15
        }
      ]
    },
    {
      "cell_type": "code",
      "metadata": {
        "id": "RKv_o710Gvt0",
        "colab_type": "code",
        "colab": {
          "base_uri": "https://localhost:8080/",
          "height": 221
        },
        "outputId": "8334edb6-ea91-4c68-fb73-2f209f78a86c"
      },
      "source": [
        "df.dtypes"
      ],
      "execution_count": 16,
      "outputs": [
        {
          "output_type": "execute_result",
          "data": {
            "text/plain": [
              "Year            int64\n",
              "Date           object\n",
              "Time           object\n",
              "Round          object\n",
              "Stadium        object\n",
              "City           object\n",
              "HomeTeam       object\n",
              "HomeGoals       int64\n",
              "AwayGoals       int64\n",
              "AwayTeam       object\n",
              "Observation    object\n",
              "dtype: object"
            ]
          },
          "metadata": {
            "tags": []
          },
          "execution_count": 16
        }
      ]
    },
    {
      "cell_type": "code",
      "metadata": {
        "id": "am2a08h_LWnv",
        "colab_type": "code",
        "colab": {}
      },
      "source": [
        "df['TotalGoals'] = df['HomeGoals'] + df['AwayGoals']"
      ],
      "execution_count": 0,
      "outputs": []
    },
    {
      "cell_type": "code",
      "metadata": {
        "id": "67dzBZGf0IBb",
        "colab_type": "code",
        "colab": {
          "base_uri": "https://localhost:8080/",
          "height": 111
        },
        "outputId": "99bba151-0bab-4db7-ddd2-37f09dc012ea"
      },
      "source": [
        "df = df[['Year', 'Time', 'Round', 'HomeTeam', 'HomeGoals', 'AwayTeam', 'AwayGoals', 'TotalGoals']]\n",
        "df.head(2)"
      ],
      "execution_count": 18,
      "outputs": [
        {
          "output_type": "execute_result",
          "data": {
            "text/html": [
              "<div>\n",
              "<style scoped>\n",
              "    .dataframe tbody tr th:only-of-type {\n",
              "        vertical-align: middle;\n",
              "    }\n",
              "\n",
              "    .dataframe tbody tr th {\n",
              "        vertical-align: top;\n",
              "    }\n",
              "\n",
              "    .dataframe thead th {\n",
              "        text-align: right;\n",
              "    }\n",
              "</style>\n",
              "<table border=\"1\" class=\"dataframe\">\n",
              "  <thead>\n",
              "    <tr style=\"text-align: right;\">\n",
              "      <th></th>\n",
              "      <th>Year</th>\n",
              "      <th>Time</th>\n",
              "      <th>Round</th>\n",
              "      <th>HomeTeam</th>\n",
              "      <th>HomeGoals</th>\n",
              "      <th>AwayTeam</th>\n",
              "      <th>AwayGoals</th>\n",
              "      <th>TotalGoals</th>\n",
              "    </tr>\n",
              "  </thead>\n",
              "  <tbody>\n",
              "    <tr>\n",
              "      <th>0</th>\n",
              "      <td>1930</td>\n",
              "      <td>15:00</td>\n",
              "      <td>Group 1</td>\n",
              "      <td>France</td>\n",
              "      <td>4</td>\n",
              "      <td>Mexico</td>\n",
              "      <td>1</td>\n",
              "      <td>5</td>\n",
              "    </tr>\n",
              "    <tr>\n",
              "      <th>1</th>\n",
              "      <td>1930</td>\n",
              "      <td>15:00</td>\n",
              "      <td>Group 4</td>\n",
              "      <td>USA</td>\n",
              "      <td>3</td>\n",
              "      <td>Belgium</td>\n",
              "      <td>0</td>\n",
              "      <td>3</td>\n",
              "    </tr>\n",
              "  </tbody>\n",
              "</table>\n",
              "</div>"
            ],
            "text/plain": [
              "   Year     Time    Round HomeTeam  HomeGoals AwayTeam  AwayGoals  TotalGoals\n",
              "0  1930   15:00   Group 1   France          4   Mexico          1           5\n",
              "1  1930   15:00   Group 4      USA          3  Belgium          0           3"
            ]
          },
          "metadata": {
            "tags": []
          },
          "execution_count": 18
        }
      ]
    },
    {
      "cell_type": "code",
      "metadata": {
        "id": "l4OsJHRm0pan",
        "colab_type": "code",
        "colab": {
          "base_uri": "https://localhost:8080/",
          "height": 391
        },
        "outputId": "2b38652b-901c-48e3-9c13-9882526fb7c9"
      },
      "source": [
        "all_goals = df.groupby(['Year']).TotalGoals.sum()\n",
        "all_goals"
      ],
      "execution_count": 19,
      "outputs": [
        {
          "output_type": "execute_result",
          "data": {
            "text/plain": [
              "Year\n",
              "1930     70\n",
              "1934     70\n",
              "1938     84\n",
              "1950     88\n",
              "1954    140\n",
              "1958    126\n",
              "1962     89\n",
              "1966     89\n",
              "1970     95\n",
              "1974     97\n",
              "1978    102\n",
              "1982    146\n",
              "1986    132\n",
              "1990    115\n",
              "1994    141\n",
              "1998    171\n",
              "2002    161\n",
              "2006    147\n",
              "2010    145\n",
              "2014    206\n",
              "Name: TotalGoals, dtype: int64"
            ]
          },
          "metadata": {
            "tags": []
          },
          "execution_count": 19
        }
      ]
    },
    {
      "cell_type": "code",
      "metadata": {
        "id": "9WFO6Vy26ByR",
        "colab_type": "code",
        "colab": {
          "base_uri": "https://localhost:8080/",
          "height": 204
        },
        "outputId": "38a8ba46-e012-4f5b-b263-e980cefec030"
      },
      "source": [
        "all_finals = df[df['Round'] == 'Final']\n",
        "all_finals.head()"
      ],
      "execution_count": 20,
      "outputs": [
        {
          "output_type": "execute_result",
          "data": {
            "text/html": [
              "<div>\n",
              "<style scoped>\n",
              "    .dataframe tbody tr th:only-of-type {\n",
              "        vertical-align: middle;\n",
              "    }\n",
              "\n",
              "    .dataframe tbody tr th {\n",
              "        vertical-align: top;\n",
              "    }\n",
              "\n",
              "    .dataframe thead th {\n",
              "        text-align: right;\n",
              "    }\n",
              "</style>\n",
              "<table border=\"1\" class=\"dataframe\">\n",
              "  <thead>\n",
              "    <tr style=\"text-align: right;\">\n",
              "      <th></th>\n",
              "      <th>Year</th>\n",
              "      <th>Time</th>\n",
              "      <th>Round</th>\n",
              "      <th>HomeTeam</th>\n",
              "      <th>HomeGoals</th>\n",
              "      <th>AwayTeam</th>\n",
              "      <th>AwayGoals</th>\n",
              "      <th>TotalGoals</th>\n",
              "    </tr>\n",
              "  </thead>\n",
              "  <tbody>\n",
              "    <tr>\n",
              "      <th>17</th>\n",
              "      <td>1930</td>\n",
              "      <td>14:15</td>\n",
              "      <td>Final</td>\n",
              "      <td>Uruguay</td>\n",
              "      <td>4</td>\n",
              "      <td>Argentina</td>\n",
              "      <td>2</td>\n",
              "      <td>6</td>\n",
              "    </tr>\n",
              "    <tr>\n",
              "      <th>34</th>\n",
              "      <td>1934</td>\n",
              "      <td>17:30</td>\n",
              "      <td>Final</td>\n",
              "      <td>Italy</td>\n",
              "      <td>2</td>\n",
              "      <td>Czechoslovakia</td>\n",
              "      <td>1</td>\n",
              "      <td>3</td>\n",
              "    </tr>\n",
              "    <tr>\n",
              "      <th>52</th>\n",
              "      <td>1938</td>\n",
              "      <td>17:00</td>\n",
              "      <td>Final</td>\n",
              "      <td>Italy</td>\n",
              "      <td>4</td>\n",
              "      <td>Hungary</td>\n",
              "      <td>2</td>\n",
              "      <td>6</td>\n",
              "    </tr>\n",
              "    <tr>\n",
              "      <th>100</th>\n",
              "      <td>1954</td>\n",
              "      <td>17:00</td>\n",
              "      <td>Final</td>\n",
              "      <td>Germany FR</td>\n",
              "      <td>3</td>\n",
              "      <td>Hungary</td>\n",
              "      <td>2</td>\n",
              "      <td>5</td>\n",
              "    </tr>\n",
              "    <tr>\n",
              "      <th>135</th>\n",
              "      <td>1958</td>\n",
              "      <td>15:00</td>\n",
              "      <td>Final</td>\n",
              "      <td>Brazil</td>\n",
              "      <td>5</td>\n",
              "      <td>Sweden</td>\n",
              "      <td>2</td>\n",
              "      <td>7</td>\n",
              "    </tr>\n",
              "  </tbody>\n",
              "</table>\n",
              "</div>"
            ],
            "text/plain": [
              "     Year     Time  Round  ...        AwayTeam  AwayGoals TotalGoals\n",
              "17   1930   14:15   Final  ...       Argentina          2          6\n",
              "34   1934   17:30   Final  ...  Czechoslovakia          1          3\n",
              "52   1938   17:00   Final  ...         Hungary          2          6\n",
              "100  1954   17:00   Final  ...         Hungary          2          5\n",
              "135  1958   15:00   Final  ...          Sweden          2          7\n",
              "\n",
              "[5 rows x 8 columns]"
            ]
          },
          "metadata": {
            "tags": []
          },
          "execution_count": 20
        }
      ]
    },
    {
      "cell_type": "code",
      "metadata": {
        "id": "fDfWrF_6RfpV",
        "colab_type": "code",
        "colab": {
          "base_uri": "https://localhost:8080/",
          "height": 34
        },
        "outputId": "0d70eb9c-32ba-45f9-b9e7-f6bd562fb3db"
      },
      "source": [
        "teams = [team for team in all_finals.HomeTeam] + [team for team in all_finals.AwayTeam]\n",
        "teams[:5]"
      ],
      "execution_count": 21,
      "outputs": [
        {
          "output_type": "execute_result",
          "data": {
            "text/plain": [
              "['Uruguay', 'Italy', 'Italy', 'Germany FR', 'Brazil']"
            ]
          },
          "metadata": {
            "tags": []
          },
          "execution_count": 21
        }
      ]
    },
    {
      "cell_type": "code",
      "metadata": {
        "id": "SXu1ayFOTHl4",
        "colab_type": "code",
        "colab": {
          "base_uri": "https://localhost:8080/",
          "height": 359
        },
        "outputId": "9e7764cf-637b-40be-eae9-a7fc4f88e10a"
      },
      "source": [
        "all_finals_df = pd.DataFrame(columns=['Teams'], data = teams)\n",
        "all_finals_df.head(10)"
      ],
      "execution_count": 22,
      "outputs": [
        {
          "output_type": "execute_result",
          "data": {
            "text/html": [
              "<div>\n",
              "<style scoped>\n",
              "    .dataframe tbody tr th:only-of-type {\n",
              "        vertical-align: middle;\n",
              "    }\n",
              "\n",
              "    .dataframe tbody tr th {\n",
              "        vertical-align: top;\n",
              "    }\n",
              "\n",
              "    .dataframe thead th {\n",
              "        text-align: right;\n",
              "    }\n",
              "</style>\n",
              "<table border=\"1\" class=\"dataframe\">\n",
              "  <thead>\n",
              "    <tr style=\"text-align: right;\">\n",
              "      <th></th>\n",
              "      <th>Teams</th>\n",
              "    </tr>\n",
              "  </thead>\n",
              "  <tbody>\n",
              "    <tr>\n",
              "      <th>0</th>\n",
              "      <td>Uruguay</td>\n",
              "    </tr>\n",
              "    <tr>\n",
              "      <th>1</th>\n",
              "      <td>Italy</td>\n",
              "    </tr>\n",
              "    <tr>\n",
              "      <th>2</th>\n",
              "      <td>Italy</td>\n",
              "    </tr>\n",
              "    <tr>\n",
              "      <th>3</th>\n",
              "      <td>Germany FR</td>\n",
              "    </tr>\n",
              "    <tr>\n",
              "      <th>4</th>\n",
              "      <td>Brazil</td>\n",
              "    </tr>\n",
              "    <tr>\n",
              "      <th>5</th>\n",
              "      <td>Brazil</td>\n",
              "    </tr>\n",
              "    <tr>\n",
              "      <th>6</th>\n",
              "      <td>England</td>\n",
              "    </tr>\n",
              "    <tr>\n",
              "      <th>7</th>\n",
              "      <td>Brazil</td>\n",
              "    </tr>\n",
              "    <tr>\n",
              "      <th>8</th>\n",
              "      <td>Netherlands</td>\n",
              "    </tr>\n",
              "    <tr>\n",
              "      <th>9</th>\n",
              "      <td>Argentina</td>\n",
              "    </tr>\n",
              "  </tbody>\n",
              "</table>\n",
              "</div>"
            ],
            "text/plain": [
              "         Teams\n",
              "0      Uruguay\n",
              "1        Italy\n",
              "2        Italy\n",
              "3   Germany FR\n",
              "4       Brazil\n",
              "5       Brazil\n",
              "6      England\n",
              "7       Brazil\n",
              "8  Netherlands\n",
              "9    Argentina"
            ]
          },
          "metadata": {
            "tags": []
          },
          "execution_count": 22
        }
      ]
    },
    {
      "cell_type": "code",
      "metadata": {
        "id": "ElZR6jFfUR6p",
        "colab_type": "code",
        "colab": {
          "base_uri": "https://localhost:8080/",
          "height": 255
        },
        "outputId": "d0991d70-1f80-4682-f42b-a7e90125ce3f"
      },
      "source": [
        "all_finals_df.Teams.value_counts()"
      ],
      "execution_count": 23,
      "outputs": [
        {
          "output_type": "execute_result",
          "data": {
            "text/plain": [
              "Brazil            6\n",
              "Argentina         6\n",
              "Italy             6\n",
              "Germany FR        6\n",
              "Germany           3\n",
              "Netherlands       3\n",
              "Hungary           2\n",
              "Czechoslovakia    2\n",
              "France            2\n",
              "England           1\n",
              "Uruguay           1\n",
              "Spain             1\n",
              "Sweden            1\n",
              "Name: Teams, dtype: int64"
            ]
          },
          "metadata": {
            "tags": []
          },
          "execution_count": 23
        }
      ]
    },
    {
      "cell_type": "code",
      "metadata": {
        "id": "h0QbdeOVVBLf",
        "colab_type": "code",
        "colab": {
          "base_uri": "https://localhost:8080/",
          "height": 255
        },
        "outputId": "33291bf7-1e1f-455a-c040-5bf878c8148c"
      },
      "source": [
        "finals_teams_ranked = all_finals_df.Teams.value_counts()\n",
        "finals_teams_ranked"
      ],
      "execution_count": 24,
      "outputs": [
        {
          "output_type": "execute_result",
          "data": {
            "text/plain": [
              "Brazil            6\n",
              "Argentina         6\n",
              "Italy             6\n",
              "Germany FR        6\n",
              "Germany           3\n",
              "Netherlands       3\n",
              "Hungary           2\n",
              "Czechoslovakia    2\n",
              "France            2\n",
              "England           1\n",
              "Uruguay           1\n",
              "Spain             1\n",
              "Sweden            1\n",
              "Name: Teams, dtype: int64"
            ]
          },
          "metadata": {
            "tags": []
          },
          "execution_count": 24
        }
      ]
    },
    {
      "cell_type": "code",
      "metadata": {
        "id": "BWbQh5nRXpHV",
        "colab_type": "code",
        "colab": {
          "base_uri": "https://localhost:8080/",
          "height": 204
        },
        "outputId": "ca4af4f2-d2cd-4c58-cb37-b5c695ad3826"
      },
      "source": [
        "all_semi_finals = df[df['Round'] == 'Semi-finals']\n",
        "all_semi_finals.head()"
      ],
      "execution_count": 25,
      "outputs": [
        {
          "output_type": "execute_result",
          "data": {
            "text/html": [
              "<div>\n",
              "<style scoped>\n",
              "    .dataframe tbody tr th:only-of-type {\n",
              "        vertical-align: middle;\n",
              "    }\n",
              "\n",
              "    .dataframe tbody tr th {\n",
              "        vertical-align: top;\n",
              "    }\n",
              "\n",
              "    .dataframe thead th {\n",
              "        text-align: right;\n",
              "    }\n",
              "</style>\n",
              "<table border=\"1\" class=\"dataframe\">\n",
              "  <thead>\n",
              "    <tr style=\"text-align: right;\">\n",
              "      <th></th>\n",
              "      <th>Year</th>\n",
              "      <th>Time</th>\n",
              "      <th>Round</th>\n",
              "      <th>HomeTeam</th>\n",
              "      <th>HomeGoals</th>\n",
              "      <th>AwayTeam</th>\n",
              "      <th>AwayGoals</th>\n",
              "      <th>TotalGoals</th>\n",
              "    </tr>\n",
              "  </thead>\n",
              "  <tbody>\n",
              "    <tr>\n",
              "      <th>15</th>\n",
              "      <td>1930</td>\n",
              "      <td>14:45</td>\n",
              "      <td>Semi-finals</td>\n",
              "      <td>Argentina</td>\n",
              "      <td>6</td>\n",
              "      <td>USA</td>\n",
              "      <td>1</td>\n",
              "      <td>7</td>\n",
              "    </tr>\n",
              "    <tr>\n",
              "      <th>16</th>\n",
              "      <td>1930</td>\n",
              "      <td>14:45</td>\n",
              "      <td>Semi-finals</td>\n",
              "      <td>Uruguay</td>\n",
              "      <td>6</td>\n",
              "      <td>Yugoslavia</td>\n",
              "      <td>1</td>\n",
              "      <td>7</td>\n",
              "    </tr>\n",
              "    <tr>\n",
              "      <th>31</th>\n",
              "      <td>1934</td>\n",
              "      <td>16:30</td>\n",
              "      <td>Semi-finals</td>\n",
              "      <td>Italy</td>\n",
              "      <td>1</td>\n",
              "      <td>Austria</td>\n",
              "      <td>0</td>\n",
              "      <td>1</td>\n",
              "    </tr>\n",
              "    <tr>\n",
              "      <th>32</th>\n",
              "      <td>1934</td>\n",
              "      <td>16:30</td>\n",
              "      <td>Semi-finals</td>\n",
              "      <td>Czechoslovakia</td>\n",
              "      <td>3</td>\n",
              "      <td>Germany</td>\n",
              "      <td>1</td>\n",
              "      <td>4</td>\n",
              "    </tr>\n",
              "    <tr>\n",
              "      <th>49</th>\n",
              "      <td>1938</td>\n",
              "      <td>18:00</td>\n",
              "      <td>Semi-finals</td>\n",
              "      <td>Hungary</td>\n",
              "      <td>5</td>\n",
              "      <td>Sweden</td>\n",
              "      <td>1</td>\n",
              "      <td>6</td>\n",
              "    </tr>\n",
              "  </tbody>\n",
              "</table>\n",
              "</div>"
            ],
            "text/plain": [
              "    Year     Time        Round  ...    AwayTeam  AwayGoals TotalGoals\n",
              "15  1930   14:45   Semi-finals  ...         USA          1          7\n",
              "16  1930   14:45   Semi-finals  ...  Yugoslavia          1          7\n",
              "31  1934   16:30   Semi-finals  ...     Austria          0          1\n",
              "32  1934   16:30   Semi-finals  ...     Germany          1          4\n",
              "49  1938   18:00   Semi-finals  ...      Sweden          1          6\n",
              "\n",
              "[5 rows x 8 columns]"
            ]
          },
          "metadata": {
            "tags": []
          },
          "execution_count": 25
        }
      ]
    },
    {
      "cell_type": "code",
      "metadata": {
        "id": "uhToYkXOYNfz",
        "colab_type": "code",
        "colab": {}
      },
      "source": [
        "teams = [t for t in all_semi_finals.HomeTeam] + [t for t in all_semi_finals.AwayTeam]"
      ],
      "execution_count": 0,
      "outputs": []
    },
    {
      "cell_type": "code",
      "metadata": {
        "id": "Mb735Q3lYcSz",
        "colab_type": "code",
        "colab": {
          "base_uri": "https://localhost:8080/",
          "height": 204
        },
        "outputId": "557c8291-e48a-4261-8cf8-f26fe0acf6d1"
      },
      "source": [
        "all_semi_finals_df = pd.DataFrame(columns=['Teams'], data = teams)\n",
        "all_semi_finals_df.head()"
      ],
      "execution_count": 27,
      "outputs": [
        {
          "output_type": "execute_result",
          "data": {
            "text/html": [
              "<div>\n",
              "<style scoped>\n",
              "    .dataframe tbody tr th:only-of-type {\n",
              "        vertical-align: middle;\n",
              "    }\n",
              "\n",
              "    .dataframe tbody tr th {\n",
              "        vertical-align: top;\n",
              "    }\n",
              "\n",
              "    .dataframe thead th {\n",
              "        text-align: right;\n",
              "    }\n",
              "</style>\n",
              "<table border=\"1\" class=\"dataframe\">\n",
              "  <thead>\n",
              "    <tr style=\"text-align: right;\">\n",
              "      <th></th>\n",
              "      <th>Teams</th>\n",
              "    </tr>\n",
              "  </thead>\n",
              "  <tbody>\n",
              "    <tr>\n",
              "      <th>0</th>\n",
              "      <td>Argentina</td>\n",
              "    </tr>\n",
              "    <tr>\n",
              "      <th>1</th>\n",
              "      <td>Uruguay</td>\n",
              "    </tr>\n",
              "    <tr>\n",
              "      <th>2</th>\n",
              "      <td>Italy</td>\n",
              "    </tr>\n",
              "    <tr>\n",
              "      <th>3</th>\n",
              "      <td>Czechoslovakia</td>\n",
              "    </tr>\n",
              "    <tr>\n",
              "      <th>4</th>\n",
              "      <td>Hungary</td>\n",
              "    </tr>\n",
              "  </tbody>\n",
              "</table>\n",
              "</div>"
            ],
            "text/plain": [
              "            Teams\n",
              "0       Argentina\n",
              "1         Uruguay\n",
              "2           Italy\n",
              "3  Czechoslovakia\n",
              "4         Hungary"
            ]
          },
          "metadata": {
            "tags": []
          },
          "execution_count": 27
        }
      ]
    },
    {
      "cell_type": "code",
      "metadata": {
        "id": "Ta_bIOyMYlHM",
        "colab_type": "code",
        "colab": {
          "base_uri": "https://localhost:8080/",
          "height": 459
        },
        "outputId": "4d97edc9-9b68-4b77-d0c4-85a3fe983d91"
      },
      "source": [
        "semifinals_teams_ranked = all_semi_finals_df.Teams.value_counts()\n",
        "semifinals_teams_ranked"
      ],
      "execution_count": 28,
      "outputs": [
        {
          "output_type": "execute_result",
          "data": {
            "text/plain": [
              "Brazil            9\n",
              "Germany FR        7\n",
              "Italy             7\n",
              "Germany           6\n",
              "France            5\n",
              "Argentina         5\n",
              "Netherlands       4\n",
              "Uruguay           4\n",
              "Sweden            3\n",
              "Austria           2\n",
              "Portugal          2\n",
              "England           2\n",
              "Yugoslavia        2\n",
              "Czechoslovakia    2\n",
              "Hungary           2\n",
              "Turkey            1\n",
              "Korea Republic    1\n",
              "Soviet Union      1\n",
              "Poland            1\n",
              "USA               1\n",
              "Spain             1\n",
              "Croatia           1\n",
              "Bulgaria          1\n",
              "Belgium           1\n",
              "Chile             1\n",
              "Name: Teams, dtype: int64"
            ]
          },
          "metadata": {
            "tags": []
          },
          "execution_count": 28
        }
      ]
    },
    {
      "cell_type": "code",
      "metadata": {
        "id": "kVs4s8FkZGhs",
        "colab_type": "code",
        "colab": {
          "base_uri": "https://localhost:8080/",
          "height": 34
        },
        "outputId": "b0d9ee56-9105-49f5-e364-4a335a322422"
      },
      "source": [
        "semi_goals_sum = all_semi_finals.TotalGoals.sum()\n",
        "semi_goals_sum"
      ],
      "execution_count": 29,
      "outputs": [
        {
          "output_type": "execute_result",
          "data": {
            "text/plain": [
              "131"
            ]
          },
          "metadata": {
            "tags": []
          },
          "execution_count": 29
        }
      ]
    },
    {
      "cell_type": "code",
      "metadata": {
        "id": "v5p5KlDxZV2h",
        "colab_type": "code",
        "colab": {
          "base_uri": "https://localhost:8080/",
          "height": 34
        },
        "outputId": "83bafcf7-39b8-4b4f-8724-02304a592227"
      },
      "source": [
        "semi_goals_avg = all_semi_finals.TotalGoals.mean()\n",
        "semi_goals_avg "
      ],
      "execution_count": 30,
      "outputs": [
        {
          "output_type": "execute_result",
          "data": {
            "text/plain": [
              "3.638888888888889"
            ]
          },
          "metadata": {
            "tags": []
          },
          "execution_count": 30
        }
      ]
    },
    {
      "cell_type": "code",
      "metadata": {
        "id": "Q7v-2OIOZb7q",
        "colab_type": "code",
        "colab": {
          "base_uri": "https://localhost:8080/",
          "height": 204
        },
        "outputId": "837577bd-388b-466e-e743-6c613867ffec"
      },
      "source": [
        "all_qtrs = df[df['Round'] == 'Quarter-finals']\n",
        "all_qtrs.head()"
      ],
      "execution_count": 31,
      "outputs": [
        {
          "output_type": "execute_result",
          "data": {
            "text/html": [
              "<div>\n",
              "<style scoped>\n",
              "    .dataframe tbody tr th:only-of-type {\n",
              "        vertical-align: middle;\n",
              "    }\n",
              "\n",
              "    .dataframe tbody tr th {\n",
              "        vertical-align: top;\n",
              "    }\n",
              "\n",
              "    .dataframe thead th {\n",
              "        text-align: right;\n",
              "    }\n",
              "</style>\n",
              "<table border=\"1\" class=\"dataframe\">\n",
              "  <thead>\n",
              "    <tr style=\"text-align: right;\">\n",
              "      <th></th>\n",
              "      <th>Year</th>\n",
              "      <th>Time</th>\n",
              "      <th>Round</th>\n",
              "      <th>HomeTeam</th>\n",
              "      <th>HomeGoals</th>\n",
              "      <th>AwayTeam</th>\n",
              "      <th>AwayGoals</th>\n",
              "      <th>TotalGoals</th>\n",
              "    </tr>\n",
              "  </thead>\n",
              "  <tbody>\n",
              "    <tr>\n",
              "      <th>26</th>\n",
              "      <td>1934</td>\n",
              "      <td>16:30</td>\n",
              "      <td>Quarter-finals</td>\n",
              "      <td>Czechoslovakia</td>\n",
              "      <td>3</td>\n",
              "      <td>Switzerland</td>\n",
              "      <td>2</td>\n",
              "      <td>5</td>\n",
              "    </tr>\n",
              "    <tr>\n",
              "      <th>27</th>\n",
              "      <td>1934</td>\n",
              "      <td>16:30</td>\n",
              "      <td>Quarter-finals</td>\n",
              "      <td>Germany</td>\n",
              "      <td>2</td>\n",
              "      <td>Sweden</td>\n",
              "      <td>1</td>\n",
              "      <td>3</td>\n",
              "    </tr>\n",
              "    <tr>\n",
              "      <th>28</th>\n",
              "      <td>1934</td>\n",
              "      <td>16:30</td>\n",
              "      <td>Quarter-finals</td>\n",
              "      <td>Italy</td>\n",
              "      <td>1</td>\n",
              "      <td>Spain</td>\n",
              "      <td>1</td>\n",
              "      <td>2</td>\n",
              "    </tr>\n",
              "    <tr>\n",
              "      <th>29</th>\n",
              "      <td>1934</td>\n",
              "      <td>16:30</td>\n",
              "      <td>Quarter-finals</td>\n",
              "      <td>Austria</td>\n",
              "      <td>2</td>\n",
              "      <td>Hungary</td>\n",
              "      <td>1</td>\n",
              "      <td>3</td>\n",
              "    </tr>\n",
              "    <tr>\n",
              "      <th>30</th>\n",
              "      <td>1934</td>\n",
              "      <td>16:30</td>\n",
              "      <td>Quarter-finals</td>\n",
              "      <td>Italy</td>\n",
              "      <td>1</td>\n",
              "      <td>Spain</td>\n",
              "      <td>0</td>\n",
              "      <td>1</td>\n",
              "    </tr>\n",
              "  </tbody>\n",
              "</table>\n",
              "</div>"
            ],
            "text/plain": [
              "    Year     Time           Round  ...     AwayTeam  AwayGoals TotalGoals\n",
              "26  1934   16:30   Quarter-finals  ...  Switzerland          2          5\n",
              "27  1934   16:30   Quarter-finals  ...       Sweden          1          3\n",
              "28  1934   16:30   Quarter-finals  ...        Spain          1          2\n",
              "29  1934   16:30   Quarter-finals  ...      Hungary          1          3\n",
              "30  1934   16:30   Quarter-finals  ...        Spain          0          1\n",
              "\n",
              "[5 rows x 8 columns]"
            ]
          },
          "metadata": {
            "tags": []
          },
          "execution_count": 31
        }
      ]
    },
    {
      "cell_type": "code",
      "metadata": {
        "id": "Q3pnBEN2Z0Ex",
        "colab_type": "code",
        "colab": {
          "base_uri": "https://localhost:8080/",
          "height": 34
        },
        "outputId": "2118f535-2f1c-45ff-b448-527a88e64b66"
      },
      "source": [
        "qtrs_goals_sum = all_qtrs.TotalGoals.sum()\n",
        "qtrs_goals_sum "
      ],
      "execution_count": 32,
      "outputs": [
        {
          "output_type": "execute_result",
          "data": {
            "text/plain": [
              "180"
            ]
          },
          "metadata": {
            "tags": []
          },
          "execution_count": 32
        }
      ]
    },
    {
      "cell_type": "code",
      "metadata": {
        "id": "uvhZuP4TZ4_Q",
        "colab_type": "code",
        "colab": {
          "base_uri": "https://localhost:8080/",
          "height": 34
        },
        "outputId": "0cc79b82-416b-4943-87f2-41a4afa1e377"
      },
      "source": [
        "qtrs_goals_avg = all_qtrs.TotalGoals.mean()\n",
        "qtrs_goals_avg"
      ],
      "execution_count": 33,
      "outputs": [
        {
          "output_type": "execute_result",
          "data": {
            "text/plain": [
              "2.727272727272727"
            ]
          },
          "metadata": {
            "tags": []
          },
          "execution_count": 33
        }
      ]
    },
    {
      "cell_type": "code",
      "metadata": {
        "id": "SgmegQ1dZ_FS",
        "colab_type": "code",
        "colab": {
          "base_uri": "https://localhost:8080/",
          "height": 34
        },
        "outputId": "dd6f7e37-d7ac-4d2c-cb4f-1f84ad2c2d04"
      },
      "source": [
        "finals_goals_sum = all_finals.TotalGoals.sum()\n",
        "finals_goals_sum"
      ],
      "execution_count": 34,
      "outputs": [
        {
          "output_type": "execute_result",
          "data": {
            "text/plain": [
              "69"
            ]
          },
          "metadata": {
            "tags": []
          },
          "execution_count": 34
        }
      ]
    },
    {
      "cell_type": "code",
      "metadata": {
        "id": "O1VGdS02a-9K",
        "colab_type": "code",
        "colab": {
          "base_uri": "https://localhost:8080/",
          "height": 34
        },
        "outputId": "c77e5594-aeb8-4bd7-eacb-cee065e99b02"
      },
      "source": [
        "finals_goals_avg = all_finals.TotalGoals.mean()\n",
        "finals_goals_avg"
      ],
      "execution_count": 35,
      "outputs": [
        {
          "output_type": "execute_result",
          "data": {
            "text/plain": [
              "3.45"
            ]
          },
          "metadata": {
            "tags": []
          },
          "execution_count": 35
        }
      ]
    },
    {
      "cell_type": "code",
      "metadata": {
        "id": "6WV4u1KIbCFt",
        "colab_type": "code",
        "colab": {
          "base_uri": "https://localhost:8080/",
          "height": 51
        },
        "outputId": "835d332b-5837-4345-8f31-df79e7e9b7f9"
      },
      "source": [
        "print(f\"{finals_goals_sum} goals were scored in all Finals\\nAn average of {finals_goals_avg:.2f} in every match.\")"
      ],
      "execution_count": 36,
      "outputs": [
        {
          "output_type": "stream",
          "text": [
            "69 goals were scored in all Finals\n",
            "An average of 3.45 in every match.\n"
          ],
          "name": "stdout"
        }
      ]
    },
    {
      "cell_type": "code",
      "metadata": {
        "id": "BuMWQBcXbTnP",
        "colab_type": "code",
        "colab": {}
      },
      "source": [
        ""
      ],
      "execution_count": 0,
      "outputs": []
    }
  ]
}