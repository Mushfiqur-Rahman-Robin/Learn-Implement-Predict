{
 "cells": [
  {
   "cell_type": "code",
   "execution_count": 4,
   "metadata": {},
   "outputs": [],
   "source": [
    "import numpy as np\n",
    "import matplotlib.pyplot as plt\n",
    "import os\n",
    "import joblib"
   ]
  },
  {
   "cell_type": "code",
   "execution_count": 5,
   "metadata": {},
   "outputs": [],
   "source": [
    "class Perceptron:\n",
    "    def __init__(self, eta: float = None, epochs: int = None):\n",
    "        self.weights = np.random.randn(3) * 1e-4\n",
    "        training = (eta is not None) and (epochs is not None)\n",
    "        if training:\n",
    "            print(f\"initial weights before training: \\n{self.weights}\")\n",
    "            self.eta = eta\n",
    "            self.epochs = epochs\n",
    "    \n",
    "    def _z_outcome(self, inputs, weights):\n",
    "        return np.dot(inputs, weights)\n",
    "\n",
    "    def activation_function(self,z):\n",
    "        return np.where(z > 0, 1, 0)\n",
    "\n",
    "    def fit(self, X, y):\n",
    "        self.X = X\n",
    "        self.y = y\n",
    "        X_with_bias = np.c_[self.X, -np.ones((len(self.X),1))]  # doing a concatenation operation\n",
    "        print(\"X with bias: \\n{X_with_bias}\")\n",
    "\n",
    "        for epoch in range(self.epochs):\n",
    "            print(\"--\"*10)\n",
    "            print(f\"epoch == \\n{epoch}\")\n",
    "            print(\"--\"*10)\n",
    "\n",
    "            z = self._z_outcome(X_with_bias, self.weights)\n",
    "            y_hat = self.activation_function(z)\n",
    "            print(f\"predicted value after forward pass: \\n{y_hat}\")\n",
    "\n",
    "            self.error = self.y - y_hat\n",
    "            print(f\"error = \\n{self.error}\")\n",
    "\n",
    "            self.weights = self.weights + self.eta * np.dot(X_with_bias.T + self.error)\n",
    "            print(f\"updated weights after epoch: {epoch}/{self.epochs}: \\n{self.weights}\")\n",
    "            print(\"##\"*10)\n",
    "\n",
    "    def predict(self, X):\n",
    "        X_with_bias = np.c_[X, -np.ones((len(X),1))]\n",
    "        z = self._z_outcome(X_with_bias, self.weights)\n",
    "        return self.activation_function(z)\n",
    "\n",
    "\n",
    "    def total_loss(self):\n",
    "        total_loss = np.sum(self.error)\n",
    "        print(f\"\\ntotal loss: {total_loss}\\n\")\n",
    "        return total_loss\n",
    "\n",
    "    def _create_dir_return_path(self, model_dir, filename):\n",
    "        os.makedirs(model_dir, exist_ok=True)\n",
    "        return os.path.join(model_dir, filename)\n",
    "\n",
    "\n",
    "    def save(self, filename, model_dir = None):\n",
    "        if model_dir is not None:\n",
    "            model_file_path = self._create_dir_return_path(model_dir, filename)\n",
    "            joblib.dump(self, model_file_path)\n",
    "        else:\n",
    "            model_file_path = self._create_sir_return_path(\"model\", filename)\n",
    "            joblib.dump(self, model_file_path)\n",
    "\n",
    "    def load(self, filepath):\n",
    "        return joblib.load(filepath)\n"
   ]
  },
  {
   "cell_type": "code",
   "execution_count": null,
   "metadata": {},
   "outputs": [],
   "source": [
    "AND = {\n",
    "    'x1' : [0,0,1,1],\n",
    "    'x2' : [0,1,0,1],\n",
    "    'y'  : [0,0,0,1]\n",
    "\n",
    "}"
   ]
  }
 ],
 "metadata": {
  "kernelspec": {
   "display_name": "Python 3.9.7 64-bit",
   "language": "python",
   "name": "python3"
  },
  "language_info": {
   "codemirror_mode": {
    "name": "ipython",
    "version": 3
   },
   "file_extension": ".py",
   "mimetype": "text/x-python",
   "name": "python",
   "nbconvert_exporter": "python",
   "pygments_lexer": "ipython3",
   "version": "3.9.7"
  },
  "orig_nbformat": 4,
  "vscode": {
   "interpreter": {
    "hash": "d53f250bb2553594e063185717e70639c4fad0553ce47f360ebb15c939323966"
   }
  }
 },
 "nbformat": 4,
 "nbformat_minor": 2
}
